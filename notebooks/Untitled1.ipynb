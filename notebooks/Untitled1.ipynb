{
 "cells": [
  {
   "cell_type": "code",
   "execution_count": 1,
   "metadata": {},
   "outputs": [],
   "source": [
    "# Import libraries\n",
    "import os\n",
    "import sys\n",
    "import h5py\n",
    "import numpy as np\n",
    "import pandas as pd\n",
    "import matplotlib.pyplot as plt\n",
    "\n",
    "#from keras.utils import HDF5Matrix\n",
    "#from keras.utils import np_utils\n",
    "\n",
    "# Modify notebook settings\n",
    "%matplotlib inline"
   ]
  },
  {
   "cell_type": "code",
   "execution_count": 2,
   "metadata": {},
   "outputs": [],
   "source": [
    "# Create a variable for the project root directory\n",
    "proj_root = os.path.join(os.pardir)\n",
    "\n",
    "# Save path to the raw metadata file\n",
    "# \"UrbanSound8K.csv\"\n",
    "metadata_file = os.path.join(proj_root,\n",
    "                             \"data\",\n",
    "                             \"raw\",\n",
    "                             \"UrbanSound8K\",\n",
    "                             \"metadata\",\n",
    "                             \"UrbanSound8K.csv\")\n",
    "\n",
    "# Save path to the raw audio files\n",
    "raw_audio_path = os.path.join(proj_root,\n",
    "                             \"data\",\n",
    "                             \"raw\",\n",
    "                             \"UrbanSound8K\",\n",
    "                             \"audio\")\n",
    "\n",
    "# Save path to the raw audio files\n",
    "fold1_path = os.path.join(raw_audio_path,\n",
    "                          \"fold1\")\n",
    "\n",
    "\n",
    "# Save the path to the folder that will contain \n",
    "# the interim data sets for modeling:\n",
    "# /data/interim\n",
    "interim_data_dir = os.path.join(proj_root,\n",
    "                                \"data\",\n",
    "                                \"interim\")\n",
    "\n",
    "\n",
    "# Save the path to the folder that will contain \n",
    "# the interim trash data sets\n",
    "# /data/interim\n",
    "interim_trash_dir = os.path.join(interim_data_dir,\n",
    "                                \"trash\")\n",
    "\n",
    "## Save path to 'sample-level.hdf5'\n",
    "hdf5_file_name = 'sample-level.hdf5'\n",
    "hdf5_path = os.path.join(interim_trash_dir, hdf5_file_name)"
   ]
  },
  {
   "cell_type": "code",
   "execution_count": 3,
   "metadata": {},
   "outputs": [],
   "source": [
    "# add the 'src' directory as one where we can import modules\n",
    "src_dir = os.path.join(proj_root, \"src\")\n",
    "sys.path.append(src_dir)"
   ]
  },
  {
   "cell_type": "code",
   "execution_count": 4,
   "metadata": {},
   "outputs": [
    {
     "name": "stderr",
     "output_type": "stream",
     "text": [
      "Using TensorFlow backend.\n"
     ]
    }
   ],
   "source": [
    "from utils.bedtime import computer_sleep\n",
    "from models.resnext1d import ResNext1D\n",
    "from models.dualplotcallback import DualPlotCallback"
   ]
  },
  {
   "cell_type": "code",
   "execution_count": 5,
   "metadata": {},
   "outputs": [
    {
     "name": "stdout",
     "output_type": "stream",
     "text": [
      "                                          "
     ]
    }
   ],
   "source": [
    "computer_sleep(seconds_until_sleep=12, verbose=1)"
   ]
  },
  {
   "cell_type": "code",
   "execution_count": null,
   "metadata": {},
   "outputs": [],
   "source": []
  }
 ],
 "metadata": {
  "kernelspec": {
   "display_name": "Python 3",
   "language": "python",
   "name": "python3"
  },
  "language_info": {
   "codemirror_mode": {
    "name": "ipython",
    "version": 3
   },
   "file_extension": ".py",
   "mimetype": "text/x-python",
   "name": "python",
   "nbconvert_exporter": "python",
   "pygments_lexer": "ipython3",
   "version": "3.5.0"
  }
 },
 "nbformat": 4,
 "nbformat_minor": 2
}
