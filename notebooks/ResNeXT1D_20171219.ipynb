{
 "cells": [
  {
   "cell_type": "markdown",
   "metadata": {},
   "source": [
    "### Import libraries and modify notebook settings"
   ]
  },
  {
   "cell_type": "code",
   "execution_count": null,
   "metadata": {},
   "outputs": [],
   "source": [
    "# Import libraries\n",
    "import os\n",
    "import sys\n",
    "import h5py\n",
    "import numpy as np\n",
    "import pandas as pd\n",
    "import matplotlib.pyplot as plt\n",
    "\n",
    "from keras.utils import HDF5Matrix\n",
    "from keras.utils import np_utils\n",
    "\n",
    "# Modify notebook settings\n",
    "%matplotlib inline"
   ]
  },
  {
   "cell_type": "markdown",
   "metadata": {},
   "source": [
    "### Create paths to data folders and files"
   ]
  },
  {
   "cell_type": "code",
   "execution_count": null,
   "metadata": {},
   "outputs": [],
   "source": [
    "# Create a variable for the project root directory\n",
    "proj_root = os.path.join(os.pardir)\n",
    "\n",
    "# Save path to the raw metadata file\n",
    "# \"UrbanSound8K.csv\"\n",
    "metadata_file = os.path.join(proj_root,\n",
    "                             \"data\",\n",
    "                             \"raw\",\n",
    "                             \"UrbanSound8K\",\n",
    "                             \"metadata\",\n",
    "                             \"UrbanSound8K.csv\")\n",
    "\n",
    "# Save path to the raw audio files\n",
    "raw_audio_path = os.path.join(proj_root,\n",
    "                             \"data\",\n",
    "                             \"raw\",\n",
    "                             \"UrbanSound8K\",\n",
    "                             \"audio\")\n",
    "\n",
    "# Save path to the raw audio files\n",
    "fold1_path = os.path.join(raw_audio_path,\n",
    "                          \"fold1\")\n",
    "\n",
    "\n",
    "# Save the path to the folder that will contain \n",
    "# the interim data sets for modeling:\n",
    "# /data/interim\n",
    "interim_data_dir = os.path.join(proj_root,\n",
    "                                \"data\",\n",
    "                                \"interim\")\n",
    "\n",
    "\n",
    "# Save the path to the folder that will contain \n",
    "# the interim trash data sets\n",
    "# /data/interim\n",
    "interim_trash_dir = os.path.join(interim_data_dir,\n",
    "                                \"trash\")\n",
    "\n",
    "## Save path to 'sample-level.hdf5'\n",
    "hdf5_file_name = 'sample-level.hdf5'\n",
    "hdf5_path = os.path.join(interim_trash_dir, hdf5_file_name)"
   ]
  },
  {
   "cell_type": "code",
   "execution_count": null,
   "metadata": {
    "collapsed": true
   },
   "outputs": [],
   "source": [
    "# add the 'src' directory as one where we can import modules\n",
    "src_dir = os.path.join(proj_root, \"src\")\n",
    "sys.path.append(src_dir)"
   ]
  },
  {
   "cell_type": "markdown",
   "metadata": {},
   "source": [
    "### Import code from `scr`"
   ]
  },
  {
   "cell_type": "code",
   "execution_count": null,
   "metadata": {},
   "outputs": [],
   "source": [
    "from utils.bedtime import computer_sleep\n",
    "from models.resnext1d import ResNext1D\n",
    "from models.dualplotcallback import DualPlotCallback"
   ]
  },
  {
   "cell_type": "markdown",
   "metadata": {},
   "source": [
    "### Create objects for X_train, y_train, X_test, & y_test"
   ]
  },
  {
   "cell_type": "code",
   "execution_count": null,
   "metadata": {},
   "outputs": [],
   "source": [
    "X_train = HDF5Matrix(hdf5_path, \n",
    "                     'X_train_dset')\n",
    "\n",
    "y_train = HDF5Matrix(hdf5_path, \n",
    "                     'y_train_dset')\n",
    "\n",
    "X_test = HDF5Matrix(hdf5_path, \n",
    "                     'X_test_dset')\n",
    "\n",
    "y_test = HDF5Matrix(hdf5_path, \n",
    "                     'y_test_dset')"
   ]
  },
  {
   "cell_type": "code",
   "execution_count": null,
   "metadata": {
    "collapsed": true
   },
   "outputs": [],
   "source": [
    "# 6. Preprocess class labels\n",
    "Y_train = np_utils.to_categorical(y_train)\n",
    "Y_test = np_utils.to_categorical(y_test)"
   ]
  },
  {
   "cell_type": "markdown",
   "metadata": {},
   "source": [
    "# doodle"
   ]
  },
  {
   "cell_type": "code",
   "execution_count": 8,
   "metadata": {},
   "outputs": [],
   "source": [
    "for i in range(10):\n",
    "    print(i, ':\\t', np.count_nonzero(np.equal(y_train, i)))"
   ]
  },
  {
   "cell_type": "markdown",
   "metadata": {},
   "source": [
    "# Model"
   ]
  },
  {
   "cell_type": "code",
   "execution_count": 9,
   "metadata": {
    "collapsed": true
   },
   "outputs": [],
   "source": [
    "global_sr = 22050"
   ]
  },
  {
   "cell_type": "code",
   "execution_count": 80,
   "metadata": {},
   "outputs": [
    {
     "name": "stdout",
     "output_type": "stream",
     "text": [
      "____________________________________________________________________________________________________\n",
      "Layer (type)                     Output Shape          Param #     Connected to                     \n",
      "====================================================================================================\n",
      "input_12 (InputLayer)            (None, 88200, 1)      0                                            \n",
      "____________________________________________________________________________________________________\n",
      "random_cropping1d_12 (RandomCrop (None, 22050, 1)      0           input_12[0][0]                   \n",
      "____________________________________________________________________________________________________\n",
      "conv1d_323 (Conv1D)              (None, 22050, 32)     32          random_cropping1d_12[0][0]       \n",
      "____________________________________________________________________________________________________\n",
      "batch_normalization_188 (BatchNo (None, 22050, 32)     128         conv1d_323[0][0]                 \n",
      "____________________________________________________________________________________________________\n",
      "leaky_re_lu_154 (LeakyReLU)      (None, 22050, 32)     0           batch_normalization_188[0][0]    \n",
      "____________________________________________________________________________________________________\n",
      "conv1d_324 (Conv1D)              (None, 22050, 32)     3072        leaky_re_lu_154[0][0]            \n",
      "____________________________________________________________________________________________________\n",
      "batch_normalization_189 (BatchNo (None, 22050, 32)     128         conv1d_324[0][0]                 \n",
      "____________________________________________________________________________________________________\n",
      "leaky_re_lu_155 (LeakyReLU)      (None, 22050, 32)     0           batch_normalization_189[0][0]    \n",
      "____________________________________________________________________________________________________\n",
      "conv1d_322 (Conv1D)              (None, 22050, 64)     64          random_cropping1d_12[0][0]       \n",
      "____________________________________________________________________________________________________\n",
      "conv1d_325 (Conv1D)              (None, 22050, 64)     2048        leaky_re_lu_155[0][0]            \n",
      "____________________________________________________________________________________________________\n",
      "batch_normalization_187 (BatchNo (None, 22050, 64)     256         conv1d_322[0][0]                 \n",
      "____________________________________________________________________________________________________\n",
      "batch_normalization_190 (BatchNo (None, 22050, 64)     256         conv1d_325[0][0]                 \n",
      "____________________________________________________________________________________________________\n",
      "add_52 (Add)                     (None, 22050, 64)     0           batch_normalization_187[0][0]    \n",
      "                                                                   batch_normalization_190[0][0]    \n",
      "____________________________________________________________________________________________________\n",
      "leaky_re_lu_156 (LeakyReLU)      (None, 22050, 64)     0           add_52[0][0]                     \n",
      "____________________________________________________________________________________________________\n",
      "conv1d_327 (Conv1D)              (None, 22050, 64)     4096        leaky_re_lu_156[0][0]            \n",
      "____________________________________________________________________________________________________\n",
      "batch_normalization_192 (BatchNo (None, 22050, 64)     256         conv1d_327[0][0]                 \n",
      "____________________________________________________________________________________________________\n",
      "leaky_re_lu_157 (LeakyReLU)      (None, 22050, 64)     0           batch_normalization_192[0][0]    \n",
      "____________________________________________________________________________________________________\n",
      "conv1d_328 (Conv1D)              (None, 11025, 64)     12288       leaky_re_lu_157[0][0]            \n",
      "____________________________________________________________________________________________________\n",
      "batch_normalization_193 (BatchNo (None, 11025, 64)     256         conv1d_328[0][0]                 \n",
      "____________________________________________________________________________________________________\n",
      "leaky_re_lu_158 (LeakyReLU)      (None, 11025, 64)     0           batch_normalization_193[0][0]    \n",
      "____________________________________________________________________________________________________\n",
      "conv1d_326 (Conv1D)              (None, 11025, 128)    8192        leaky_re_lu_156[0][0]            \n",
      "____________________________________________________________________________________________________\n",
      "conv1d_329 (Conv1D)              (None, 11025, 128)    8192        leaky_re_lu_158[0][0]            \n",
      "____________________________________________________________________________________________________\n",
      "batch_normalization_191 (BatchNo (None, 11025, 128)    512         conv1d_326[0][0]                 \n",
      "____________________________________________________________________________________________________\n",
      "batch_normalization_194 (BatchNo (None, 11025, 128)    512         conv1d_329[0][0]                 \n",
      "____________________________________________________________________________________________________\n",
      "add_53 (Add)                     (None, 11025, 128)    0           batch_normalization_191[0][0]    \n",
      "                                                                   batch_normalization_194[0][0]    \n",
      "____________________________________________________________________________________________________\n",
      "leaky_re_lu_159 (LeakyReLU)      (None, 11025, 128)    0           add_53[0][0]                     \n",
      "____________________________________________________________________________________________________\n",
      "conv1d_331 (Conv1D)              (None, 11025, 128)    16384       leaky_re_lu_159[0][0]            \n",
      "____________________________________________________________________________________________________\n",
      "batch_normalization_196 (BatchNo (None, 11025, 128)    512         conv1d_331[0][0]                 \n",
      "____________________________________________________________________________________________________\n",
      "leaky_re_lu_160 (LeakyReLU)      (None, 11025, 128)    0           batch_normalization_196[0][0]    \n",
      "____________________________________________________________________________________________________\n",
      "conv1d_332 (Conv1D)              (None, 5513, 128)     49152       leaky_re_lu_160[0][0]            \n",
      "____________________________________________________________________________________________________\n",
      "batch_normalization_197 (BatchNo (None, 5513, 128)     512         conv1d_332[0][0]                 \n",
      "____________________________________________________________________________________________________\n",
      "leaky_re_lu_161 (LeakyReLU)      (None, 5513, 128)     0           batch_normalization_197[0][0]    \n",
      "____________________________________________________________________________________________________\n",
      "conv1d_330 (Conv1D)              (None, 5513, 256)     32768       leaky_re_lu_159[0][0]            \n",
      "____________________________________________________________________________________________________\n",
      "conv1d_333 (Conv1D)              (None, 5513, 256)     32768       leaky_re_lu_161[0][0]            \n",
      "____________________________________________________________________________________________________\n",
      "batch_normalization_195 (BatchNo (None, 5513, 256)     1024        conv1d_330[0][0]                 \n",
      "____________________________________________________________________________________________________\n",
      "batch_normalization_198 (BatchNo (None, 5513, 256)     1024        conv1d_333[0][0]                 \n",
      "____________________________________________________________________________________________________\n",
      "add_54 (Add)                     (None, 5513, 256)     0           batch_normalization_195[0][0]    \n",
      "                                                                   batch_normalization_198[0][0]    \n",
      "____________________________________________________________________________________________________\n",
      "leaky_re_lu_162 (LeakyReLU)      (None, 5513, 256)     0           add_54[0][0]                     \n",
      "____________________________________________________________________________________________________\n",
      "global_average_pooling1d_12 (Glo (None, 256)           0           leaky_re_lu_162[0][0]            \n",
      "____________________________________________________________________________________________________\n",
      "dense_12 (Dense)                 (None, 10)            2560        global_average_pooling1d_12[0][0]\n",
      "====================================================================================================\n",
      "Total params: 176,992\n",
      "Trainable params: 174,304\n",
      "Non-trainable params: 2,688\n",
      "____________________________________________________________________________________________________\n"
     ]
    }
   ],
   "source": [
    "inpu = X_train.shape[1:]\n",
    "dept = 11 # 29\n",
    "card = 1 # 2 # 8\n",
    "widt = 32# 64\n",
    "weig = 5e-4\n",
    "clas = Y_train.shape[1]\n",
    "crop = int(global_sr * 1)\n",
    "\n",
    "\n",
    "#input_shape=None, depth=29, cardinality=8, width=64, weight_decay=5e-4,\n",
    "\n",
    "model_resnext1d = ResNext1D(input_shape=inpu, \n",
    "                            depth=dept,\n",
    "                            cardinality=card,\n",
    "                            width=widt,\n",
    "                            weight_decay=weig, \n",
    "                            classes=clas, cropping=crop)   \n",
    "\n",
    "model_resnext1d.compile(loss='categorical_crossentropy',\n",
    "              optimizer='adadelta',\n",
    "              metrics=['accuracy'])\n",
    "\n",
    "model_resnext1d.summary()\n"
   ]
  },
  {
   "cell_type": "markdown",
   "metadata": {},
   "source": [
    "    Total params: 2,219,392\n",
    "    Trainable params: 2,208,640\n",
    "    Non-trainable params: 10,752"
   ]
  },
  {
   "cell_type": "markdown",
   "metadata": {},
   "source": [
    "    Total params: 28,931,584\n",
    "    Trainable params: 28,888,576\n",
    "    Non-trainable params: 43,008\n",
    "    \n",
    "    \n",
    "    "
   ]
  },
  {
   "cell_type": "markdown",
   "metadata": {},
   "source": [
    "Card 1, dept = 11:\n",
    "\n",
    "    Total params: 176,992\n",
    "    Trainable params: 174,304\n",
    "    Non-trainable params: 2,688\n",
    "    \n",
    "Card 3, dept = 11:\n",
    "\n",
    "    Total params: 1,157,664\n",
    "    Trainable params: 1,149,600\n",
    "    Non-trainable params: 8,064\n",
    "\n",
    "Card 3, dept = 20:\n",
    "\n",
    "    Total params: 2,136,096\n",
    "    Trainable params: 2,122,656\n",
    "    Non-trainable params: 13,440\n",
    "    \n",
    "Card 3, dept = 29:\n",
    "\n",
    "    Total params: 3,114,528\n",
    "    Trainable params: 3,095,712\n",
    "    Non-trainable params: 18,816\n",
    "    \n",
    "Card 3, dept = 29:      [TOO MANY]  \n",
    "\n",
    "    Total params: 4,092,960\n",
    "    Trainable params: 4,068,768\n",
    "    Non-trainable params: 24,192\n"
   ]
  },
  {
   "cell_type": "code",
   "execution_count": 81,
   "metadata": {},
   "outputs": [
    {
     "data": {
      "text/plain": [
       "11"
      ]
     },
     "execution_count": 81,
     "metadata": {},
     "output_type": "execute_result"
    }
   ],
   "source": [
    "x = 1\n",
    "(9 * x) + 2"
   ]
  },
  {
   "cell_type": "code",
   "execution_count": 82,
   "metadata": {},
   "outputs": [
    {
     "data": {
      "text/plain": [
       "20"
      ]
     },
     "execution_count": 82,
     "metadata": {},
     "output_type": "execute_result"
    }
   ],
   "source": [
    "x = 2\n",
    "(9 * x) + 2"
   ]
  },
  {
   "cell_type": "code",
   "execution_count": 83,
   "metadata": {},
   "outputs": [
    {
     "data": {
      "text/plain": [
       "29"
      ]
     },
     "execution_count": 83,
     "metadata": {},
     "output_type": "execute_result"
    }
   ],
   "source": [
    "x = 3\n",
    "(9 * x) + 2"
   ]
  },
  {
   "cell_type": "code",
   "execution_count": 84,
   "metadata": {},
   "outputs": [
    {
     "data": {
      "text/plain": [
       "38"
      ]
     },
     "execution_count": 84,
     "metadata": {},
     "output_type": "execute_result"
    }
   ],
   "source": [
    "x = 4\n",
    "(9 * x) + 2"
   ]
  },
  {
   "cell_type": "code",
   "execution_count": 85,
   "metadata": {},
   "outputs": [
    {
     "name": "stdout",
     "output_type": "stream",
     "text": [
      "card 3 # params: \t2,315,328\n"
     ]
    }
   ],
   "source": [
    "print('card 3 # params: \\t{:,}'.format(1157664 + 1149600 + 8064))"
   ]
  },
  {
   "cell_type": "code",
   "execution_count": 86,
   "metadata": {},
   "outputs": [
    {
     "name": "stdout",
     "output_type": "stream",
     "text": [
      "card 3 / card 1 \t6.54\n"
     ]
    }
   ],
   "source": [
    "print('card 3 / card 1 \\t{:.2f}'.format((1157664 + 1149600 + 8064) / (176992 + 174304 + 2688)))"
   ]
  },
  {
   "cell_type": "markdown",
   "metadata": {},
   "source": [
    "# ..."
   ]
  },
  {
   "cell_type": "code",
   "execution_count": 87,
   "metadata": {},
   "outputs": [
    {
     "data": {
      "image/svg+xml": [
       "<svg height=\"2454pt\" viewBox=\"0.00 0.00 321.52 2454.00\" width=\"322pt\" xmlns=\"http://www.w3.org/2000/svg\" xmlns:xlink=\"http://www.w3.org/1999/xlink\">\n",
       "<g class=\"graph\" id=\"graph0\" transform=\"scale(1 1) rotate(0) translate(4 2450)\">\n",
       "<title>G</title>\n",
       "<polygon fill=\"white\" points=\"-4,4 -4,-2450 317.518,-2450 317.518,4 -4,4\" stroke=\"none\"/>\n",
       "<!-- 6031335776 -->\n",
       "<g class=\"node\" id=\"node1\"><title>6031335776</title>\n",
       "<polygon fill=\"none\" points=\"81.6621,-2409.5 81.6621,-2445.5 159.855,-2445.5 159.855,-2409.5 81.6621,-2409.5\" stroke=\"black\"/>\n",
       "<text font-family=\"Times,serif\" font-size=\"14.00\" text-anchor=\"middle\" x=\"120.759\" y=\"-2423.3\">InputLayer</text>\n",
       "</g>\n",
       "<!-- 6031336336 -->\n",
       "<g class=\"node\" id=\"node2\"><title>6031336336</title>\n",
       "<polygon fill=\"none\" points=\"54.0381,-2336.5 54.0381,-2372.5 187.479,-2372.5 187.479,-2336.5 54.0381,-2336.5\" stroke=\"black\"/>\n",
       "<text font-family=\"Times,serif\" font-size=\"14.00\" text-anchor=\"middle\" x=\"120.759\" y=\"-2350.3\">RandomCropping1D</text>\n",
       "</g>\n",
       "<!-- 6031335776&#45;&gt;6031336336 -->\n",
       "<g class=\"edge\" id=\"edge1\"><title>6031335776-&gt;6031336336</title>\n",
       "<path d=\"M120.759,-2409.31C120.759,-2401.29 120.759,-2391.55 120.759,-2382.57\" fill=\"none\" stroke=\"black\"/>\n",
       "<polygon fill=\"black\" points=\"124.259,-2382.53 120.759,-2372.53 117.259,-2382.53 124.259,-2382.53\" stroke=\"black\"/>\n",
       "</g>\n",
       "<!-- 6031886208 -->\n",
       "<g class=\"node\" id=\"node3\"><title>6031886208</title>\n",
       "<polygon fill=\"none\" points=\"46.0347,-2263.5 46.0347,-2299.5 109.483,-2299.5 109.483,-2263.5 46.0347,-2263.5\" stroke=\"black\"/>\n",
       "<text font-family=\"Times,serif\" font-size=\"14.00\" text-anchor=\"middle\" x=\"77.7588\" y=\"-2277.3\">Conv1D</text>\n",
       "</g>\n",
       "<!-- 6031336336&#45;&gt;6031886208 -->\n",
       "<g class=\"edge\" id=\"edge2\"><title>6031336336-&gt;6031886208</title>\n",
       "<path d=\"M110.35,-2336.31C105.226,-2327.85 98.946,-2317.48 93.2706,-2308.11\" fill=\"none\" stroke=\"black\"/>\n",
       "<polygon fill=\"black\" points=\"96.2462,-2306.27 88.072,-2299.53 90.2587,-2309.9 96.2462,-2306.27\" stroke=\"black\"/>\n",
       "</g>\n",
       "<!-- 6031336728 -->\n",
       "<g class=\"node\" id=\"node9\"><title>6031336728</title>\n",
       "<polygon fill=\"none\" points=\"152.035,-2190.5 152.035,-2226.5 215.483,-2226.5 215.483,-2190.5 152.035,-2190.5\" stroke=\"black\"/>\n",
       "<text font-family=\"Times,serif\" font-size=\"14.00\" text-anchor=\"middle\" x=\"183.759\" y=\"-2204.3\">Conv1D</text>\n",
       "</g>\n",
       "<!-- 6031336336&#45;&gt;6031336728 -->\n",
       "<g class=\"edge\" id=\"edge8\"><title>6031336336-&gt;6031336728</title>\n",
       "<path d=\"M128.233,-2336.42C139.127,-2311.52 159.458,-2265.04 172.264,-2235.77\" fill=\"none\" stroke=\"black\"/>\n",
       "<polygon fill=\"black\" points=\"175.492,-2237.13 176.294,-2226.56 169.079,-2234.32 175.492,-2237.13\" stroke=\"black\"/>\n",
       "</g>\n",
       "<!-- 6039530296 -->\n",
       "<g class=\"node\" id=\"node4\"><title>6039530296</title>\n",
       "<polygon fill=\"none\" points=\"0,-2190.5 0,-2226.5 129.518,-2226.5 129.518,-2190.5 0,-2190.5\" stroke=\"black\"/>\n",
       "<text font-family=\"Times,serif\" font-size=\"14.00\" text-anchor=\"middle\" x=\"64.7588\" y=\"-2204.3\">BatchNormalization</text>\n",
       "</g>\n",
       "<!-- 6031886208&#45;&gt;6039530296 -->\n",
       "<g class=\"edge\" id=\"edge3\"><title>6031886208-&gt;6039530296</title>\n",
       "<path d=\"M74.6119,-2263.31C73.1428,-2255.29 71.359,-2245.55 69.7151,-2236.57\" fill=\"none\" stroke=\"black\"/>\n",
       "<polygon fill=\"black\" points=\"73.1206,-2235.73 67.8767,-2226.53 66.2351,-2237 73.1206,-2235.73\" stroke=\"black\"/>\n",
       "</g>\n",
       "<!-- 6040914352 -->\n",
       "<g class=\"node\" id=\"node5\"><title>6040914352</title>\n",
       "<polygon fill=\"none\" points=\"19.1621,-2117.5 19.1621,-2153.5 104.355,-2153.5 104.355,-2117.5 19.1621,-2117.5\" stroke=\"black\"/>\n",
       "<text font-family=\"Times,serif\" font-size=\"14.00\" text-anchor=\"middle\" x=\"61.7588\" y=\"-2131.3\">LeakyReLU</text>\n",
       "</g>\n",
       "<!-- 6039530296&#45;&gt;6040914352 -->\n",
       "<g class=\"edge\" id=\"edge4\"><title>6039530296-&gt;6040914352</title>\n",
       "<path d=\"M64.0326,-2190.31C63.6936,-2182.29 63.2819,-2172.55 62.9026,-2163.57\" fill=\"none\" stroke=\"black\"/>\n",
       "<polygon fill=\"black\" points=\"66.3975,-2163.37 62.4783,-2153.53 59.4037,-2163.67 66.3975,-2163.37\" stroke=\"black\"/>\n",
       "</g>\n",
       "<!-- 6040358360 -->\n",
       "<g class=\"node\" id=\"node6\"><title>6040358360</title>\n",
       "<polygon fill=\"none\" points=\"46.0347,-2044.5 46.0347,-2080.5 109.483,-2080.5 109.483,-2044.5 46.0347,-2044.5\" stroke=\"black\"/>\n",
       "<text font-family=\"Times,serif\" font-size=\"14.00\" text-anchor=\"middle\" x=\"77.7588\" y=\"-2058.3\">Conv1D</text>\n",
       "</g>\n",
       "<!-- 6040914352&#45;&gt;6040358360 -->\n",
       "<g class=\"edge\" id=\"edge5\"><title>6040914352-&gt;6040358360</title>\n",
       "<path d=\"M65.6319,-2117.31C67.44,-2109.29 69.6354,-2099.55 71.6587,-2090.57\" fill=\"none\" stroke=\"black\"/>\n",
       "<polygon fill=\"black\" points=\"75.1372,-2091.05 73.9213,-2080.53 68.3085,-2089.51 75.1372,-2091.05\" stroke=\"black\"/>\n",
       "</g>\n",
       "<!-- 6040980728 -->\n",
       "<g class=\"node\" id=\"node7\"><title>6040980728</title>\n",
       "<polygon fill=\"none\" points=\"21,-1971.5 21,-2007.5 150.518,-2007.5 150.518,-1971.5 21,-1971.5\" stroke=\"black\"/>\n",
       "<text font-family=\"Times,serif\" font-size=\"14.00\" text-anchor=\"middle\" x=\"85.7588\" y=\"-1985.3\">BatchNormalization</text>\n",
       "</g>\n",
       "<!-- 6040358360&#45;&gt;6040980728 -->\n",
       "<g class=\"edge\" id=\"edge6\"><title>6040358360-&gt;6040980728</title>\n",
       "<path d=\"M79.6954,-2044.31C80.5994,-2036.29 81.6971,-2026.55 82.7087,-2017.57\" fill=\"none\" stroke=\"black\"/>\n",
       "<polygon fill=\"black\" points=\"86.1983,-2017.86 83.84,-2007.53 79.2423,-2017.07 86.1983,-2017.86\" stroke=\"black\"/>\n",
       "</g>\n",
       "<!-- 6042213512 -->\n",
       "<g class=\"node\" id=\"node8\"><title>6042213512</title>\n",
       "<polygon fill=\"none\" points=\"47.1621,-1898.5 47.1621,-1934.5 132.355,-1934.5 132.355,-1898.5 47.1621,-1898.5\" stroke=\"black\"/>\n",
       "<text font-family=\"Times,serif\" font-size=\"14.00\" text-anchor=\"middle\" x=\"89.7588\" y=\"-1912.3\">LeakyReLU</text>\n",
       "</g>\n",
       "<!-- 6040980728&#45;&gt;6042213512 -->\n",
       "<g class=\"edge\" id=\"edge7\"><title>6040980728-&gt;6042213512</title>\n",
       "<path d=\"M86.7271,-1971.31C87.1791,-1963.29 87.7279,-1953.55 88.2338,-1944.57\" fill=\"none\" stroke=\"black\"/>\n",
       "<polygon fill=\"black\" points=\"91.7313,-1944.71 88.7994,-1934.53 84.7424,-1944.32 91.7313,-1944.71\" stroke=\"black\"/>\n",
       "</g>\n",
       "<!-- 6042152128 -->\n",
       "<g class=\"node\" id=\"node10\"><title>6042152128</title>\n",
       "<polygon fill=\"none\" points=\"60.0347,-1825.5 60.0347,-1861.5 123.483,-1861.5 123.483,-1825.5 60.0347,-1825.5\" stroke=\"black\"/>\n",
       "<text font-family=\"Times,serif\" font-size=\"14.00\" text-anchor=\"middle\" x=\"91.7588\" y=\"-1839.3\">Conv1D</text>\n",
       "</g>\n",
       "<!-- 6042213512&#45;&gt;6042152128 -->\n",
       "<g class=\"edge\" id=\"edge9\"><title>6042213512-&gt;6042152128</title>\n",
       "<path d=\"M90.2429,-1898.31C90.4689,-1890.29 90.7434,-1880.55 90.9963,-1871.57\" fill=\"none\" stroke=\"black\"/>\n",
       "<polygon fill=\"black\" points=\"94.496,-1871.62 91.2791,-1861.53 87.4988,-1871.43 94.496,-1871.62\" stroke=\"black\"/>\n",
       "</g>\n",
       "<!-- 6031812312 -->\n",
       "<g class=\"node\" id=\"node11\"><title>6031812312</title>\n",
       "<polygon fill=\"none\" points=\"122,-2117.5 122,-2153.5 251.518,-2153.5 251.518,-2117.5 122,-2117.5\" stroke=\"black\"/>\n",
       "<text font-family=\"Times,serif\" font-size=\"14.00\" text-anchor=\"middle\" x=\"186.759\" y=\"-2131.3\">BatchNormalization</text>\n",
       "</g>\n",
       "<!-- 6031336728&#45;&gt;6031812312 -->\n",
       "<g class=\"edge\" id=\"edge10\"><title>6031336728-&gt;6031812312</title>\n",
       "<path d=\"M184.485,-2190.31C184.824,-2182.29 185.236,-2172.55 185.615,-2163.57\" fill=\"none\" stroke=\"black\"/>\n",
       "<polygon fill=\"black\" points=\"189.114,-2163.67 186.039,-2153.53 182.12,-2163.37 189.114,-2163.67\" stroke=\"black\"/>\n",
       "</g>\n",
       "<!-- 6043331944 -->\n",
       "<g class=\"node\" id=\"node12\"><title>6043331944</title>\n",
       "<polygon fill=\"none\" points=\"28,-1752.5 28,-1788.5 157.518,-1788.5 157.518,-1752.5 28,-1752.5\" stroke=\"black\"/>\n",
       "<text font-family=\"Times,serif\" font-size=\"14.00\" text-anchor=\"middle\" x=\"92.7588\" y=\"-1766.3\">BatchNormalization</text>\n",
       "</g>\n",
       "<!-- 6042152128&#45;&gt;6043331944 -->\n",
       "<g class=\"edge\" id=\"edge11\"><title>6042152128-&gt;6043331944</title>\n",
       "<path d=\"M92.0009,-1825.31C92.1139,-1817.29 92.2511,-1807.55 92.3775,-1798.57\" fill=\"none\" stroke=\"black\"/>\n",
       "<polygon fill=\"black\" points=\"95.8777,-1798.58 92.5189,-1788.53 88.8784,-1798.48 95.8777,-1798.58\" stroke=\"black\"/>\n",
       "</g>\n",
       "<!-- 6043828008 -->\n",
       "<g class=\"node\" id=\"node13\"><title>6043828008</title>\n",
       "<polygon fill=\"none\" points=\"111.759,-1679.5 111.759,-1715.5 165.759,-1715.5 165.759,-1679.5 111.759,-1679.5\" stroke=\"black\"/>\n",
       "<text font-family=\"Times,serif\" font-size=\"14.00\" text-anchor=\"middle\" x=\"138.314\" y=\"-1693.3\">Add</text>\n",
       "</g>\n",
       "<!-- 6031812312&#45;&gt;6043828008 -->\n",
       "<g class=\"edge\" id=\"edge12\"><title>6031812312-&gt;6043828008</title>\n",
       "<path d=\"M186.561,-2117.21C186.27,-2090.18 185.759,-2036.25 185.759,-1990.5 185.759,-1990.5 185.759,-1990.5 185.759,-1842.5 185.759,-1801.4 180.641,-1790.68 166.759,-1752 163.466,-1742.82 158.87,-1733.25 154.353,-1724.79\" fill=\"none\" stroke=\"black\"/>\n",
       "<polygon fill=\"black\" points=\"157.268,-1722.83 149.359,-1715.78 151.145,-1726.22 157.268,-1722.83\" stroke=\"black\"/>\n",
       "</g>\n",
       "<!-- 6043331944&#45;&gt;6043828008 -->\n",
       "<g class=\"edge\" id=\"edge13\"><title>6043331944-&gt;6043828008</title>\n",
       "<path d=\"M103.894,-1752.31C109.375,-1743.85 116.093,-1733.48 122.165,-1724.11\" fill=\"none\" stroke=\"black\"/>\n",
       "<polygon fill=\"black\" points=\"125.226,-1725.82 127.726,-1715.53 119.351,-1722.02 125.226,-1725.82\" stroke=\"black\"/>\n",
       "</g>\n",
       "<!-- 6043768088 -->\n",
       "<g class=\"node\" id=\"node14\"><title>6043768088</title>\n",
       "<polygon fill=\"none\" points=\"96.1621,-1606.5 96.1621,-1642.5 181.355,-1642.5 181.355,-1606.5 96.1621,-1606.5\" stroke=\"black\"/>\n",
       "<text font-family=\"Times,serif\" font-size=\"14.00\" text-anchor=\"middle\" x=\"138.759\" y=\"-1620.3\">LeakyReLU</text>\n",
       "</g>\n",
       "<!-- 6043828008&#45;&gt;6043768088 -->\n",
       "<g class=\"edge\" id=\"edge14\"><title>6043828008-&gt;6043768088</title>\n",
       "<path d=\"M138.759,-1679.31C138.759,-1671.29 138.759,-1661.55 138.759,-1652.57\" fill=\"none\" stroke=\"black\"/>\n",
       "<polygon fill=\"black\" points=\"142.259,-1652.53 138.759,-1642.53 135.259,-1652.53 142.259,-1652.53\" stroke=\"black\"/>\n",
       "</g>\n",
       "<!-- 6045232320 -->\n",
       "<g class=\"node\" id=\"node15\"><title>6045232320</title>\n",
       "<polygon fill=\"none\" points=\"77.0347,-1533.5 77.0347,-1569.5 140.483,-1569.5 140.483,-1533.5 77.0347,-1533.5\" stroke=\"black\"/>\n",
       "<text font-family=\"Times,serif\" font-size=\"14.00\" text-anchor=\"middle\" x=\"108.759\" y=\"-1547.3\">Conv1D</text>\n",
       "</g>\n",
       "<!-- 6043768088&#45;&gt;6045232320 -->\n",
       "<g class=\"edge\" id=\"edge15\"><title>6043768088-&gt;6045232320</title>\n",
       "<path d=\"M131.497,-1606.31C128.033,-1598.12 123.811,-1588.12 119.95,-1578.98\" fill=\"none\" stroke=\"black\"/>\n",
       "<polygon fill=\"black\" points=\"123.07,-1577.38 115.954,-1569.53 116.622,-1580.1 123.07,-1577.38\" stroke=\"black\"/>\n",
       "</g>\n",
       "<!-- 6043973224 -->\n",
       "<g class=\"node\" id=\"node21\"><title>6043973224</title>\n",
       "<polygon fill=\"none\" points=\"183.035,-1460.5 183.035,-1496.5 246.483,-1496.5 246.483,-1460.5 183.035,-1460.5\" stroke=\"black\"/>\n",
       "<text font-family=\"Times,serif\" font-size=\"14.00\" text-anchor=\"middle\" x=\"214.759\" y=\"-1474.3\">Conv1D</text>\n",
       "</g>\n",
       "<!-- 6043768088&#45;&gt;6043973224 -->\n",
       "<g class=\"edge\" id=\"edge21\"><title>6043768088-&gt;6043973224</title>\n",
       "<path d=\"M147.775,-1606.42C160.917,-1581.52 185.444,-1535.04 200.892,-1505.77\" fill=\"none\" stroke=\"black\"/>\n",
       "<polygon fill=\"black\" points=\"204.182,-1507.04 205.754,-1496.56 197.991,-1503.77 204.182,-1507.04\" stroke=\"black\"/>\n",
       "</g>\n",
       "<!-- 6045367768 -->\n",
       "<g class=\"node\" id=\"node16\"><title>6045367768</title>\n",
       "<polygon fill=\"none\" points=\"31,-1460.5 31,-1496.5 160.518,-1496.5 160.518,-1460.5 31,-1460.5\" stroke=\"black\"/>\n",
       "<text font-family=\"Times,serif\" font-size=\"14.00\" text-anchor=\"middle\" x=\"95.7588\" y=\"-1474.3\">BatchNormalization</text>\n",
       "</g>\n",
       "<!-- 6045232320&#45;&gt;6045367768 -->\n",
       "<g class=\"edge\" id=\"edge16\"><title>6045232320-&gt;6045367768</title>\n",
       "<path d=\"M105.612,-1533.31C104.143,-1525.29 102.359,-1515.55 100.715,-1506.57\" fill=\"none\" stroke=\"black\"/>\n",
       "<polygon fill=\"black\" points=\"104.121,-1505.73 98.8767,-1496.53 97.2351,-1507 104.121,-1505.73\" stroke=\"black\"/>\n",
       "</g>\n",
       "<!-- 6046522616 -->\n",
       "<g class=\"node\" id=\"node17\"><title>6046522616</title>\n",
       "<polygon fill=\"none\" points=\"50.1621,-1387.5 50.1621,-1423.5 135.355,-1423.5 135.355,-1387.5 50.1621,-1387.5\" stroke=\"black\"/>\n",
       "<text font-family=\"Times,serif\" font-size=\"14.00\" text-anchor=\"middle\" x=\"92.7588\" y=\"-1401.3\">LeakyReLU</text>\n",
       "</g>\n",
       "<!-- 6045367768&#45;&gt;6046522616 -->\n",
       "<g class=\"edge\" id=\"edge17\"><title>6045367768-&gt;6046522616</title>\n",
       "<path d=\"M95.0326,-1460.31C94.6936,-1452.29 94.2819,-1442.55 93.9026,-1433.57\" fill=\"none\" stroke=\"black\"/>\n",
       "<polygon fill=\"black\" points=\"97.3975,-1433.37 93.4783,-1423.53 90.4037,-1433.67 97.3975,-1433.37\" stroke=\"black\"/>\n",
       "</g>\n",
       "<!-- 6046352384 -->\n",
       "<g class=\"node\" id=\"node18\"><title>6046352384</title>\n",
       "<polygon fill=\"none\" points=\"77.0347,-1314.5 77.0347,-1350.5 140.483,-1350.5 140.483,-1314.5 77.0347,-1314.5\" stroke=\"black\"/>\n",
       "<text font-family=\"Times,serif\" font-size=\"14.00\" text-anchor=\"middle\" x=\"108.759\" y=\"-1328.3\">Conv1D</text>\n",
       "</g>\n",
       "<!-- 6046522616&#45;&gt;6046352384 -->\n",
       "<g class=\"edge\" id=\"edge18\"><title>6046522616-&gt;6046352384</title>\n",
       "<path d=\"M96.6319,-1387.31C98.44,-1379.29 100.635,-1369.55 102.659,-1360.57\" fill=\"none\" stroke=\"black\"/>\n",
       "<polygon fill=\"black\" points=\"106.137,-1361.05 104.921,-1350.53 99.3085,-1359.51 106.137,-1361.05\" stroke=\"black\"/>\n",
       "</g>\n",
       "<!-- 6046575472 -->\n",
       "<g class=\"node\" id=\"node19\"><title>6046575472</title>\n",
       "<polygon fill=\"none\" points=\"52,-1241.5 52,-1277.5 181.518,-1277.5 181.518,-1241.5 52,-1241.5\" stroke=\"black\"/>\n",
       "<text font-family=\"Times,serif\" font-size=\"14.00\" text-anchor=\"middle\" x=\"116.759\" y=\"-1255.3\">BatchNormalization</text>\n",
       "</g>\n",
       "<!-- 6046352384&#45;&gt;6046575472 -->\n",
       "<g class=\"edge\" id=\"edge19\"><title>6046352384-&gt;6046575472</title>\n",
       "<path d=\"M110.695,-1314.31C111.599,-1306.29 112.697,-1296.55 113.709,-1287.57\" fill=\"none\" stroke=\"black\"/>\n",
       "<polygon fill=\"black\" points=\"117.198,-1287.86 114.84,-1277.53 110.242,-1287.07 117.198,-1287.86\" stroke=\"black\"/>\n",
       "</g>\n",
       "<!-- 6048103224 -->\n",
       "<g class=\"node\" id=\"node20\"><title>6048103224</title>\n",
       "<polygon fill=\"none\" points=\"78.1621,-1168.5 78.1621,-1204.5 163.355,-1204.5 163.355,-1168.5 78.1621,-1168.5\" stroke=\"black\"/>\n",
       "<text font-family=\"Times,serif\" font-size=\"14.00\" text-anchor=\"middle\" x=\"120.759\" y=\"-1182.3\">LeakyReLU</text>\n",
       "</g>\n",
       "<!-- 6046575472&#45;&gt;6048103224 -->\n",
       "<g class=\"edge\" id=\"edge20\"><title>6046575472-&gt;6048103224</title>\n",
       "<path d=\"M117.727,-1241.31C118.179,-1233.29 118.728,-1223.55 119.234,-1214.57\" fill=\"none\" stroke=\"black\"/>\n",
       "<polygon fill=\"black\" points=\"122.731,-1214.71 119.799,-1204.53 115.742,-1214.32 122.731,-1214.71\" stroke=\"black\"/>\n",
       "</g>\n",
       "<!-- 6048040328 -->\n",
       "<g class=\"node\" id=\"node22\"><title>6048040328</title>\n",
       "<polygon fill=\"none\" points=\"91.0347,-1095.5 91.0347,-1131.5 154.483,-1131.5 154.483,-1095.5 91.0347,-1095.5\" stroke=\"black\"/>\n",
       "<text font-family=\"Times,serif\" font-size=\"14.00\" text-anchor=\"middle\" x=\"122.759\" y=\"-1109.3\">Conv1D</text>\n",
       "</g>\n",
       "<!-- 6048103224&#45;&gt;6048040328 -->\n",
       "<g class=\"edge\" id=\"edge22\"><title>6048103224-&gt;6048040328</title>\n",
       "<path d=\"M121.243,-1168.31C121.469,-1160.29 121.743,-1150.55 121.996,-1141.57\" fill=\"none\" stroke=\"black\"/>\n",
       "<polygon fill=\"black\" points=\"125.496,-1141.62 122.279,-1131.53 118.499,-1141.43 125.496,-1141.62\" stroke=\"black\"/>\n",
       "</g>\n",
       "<!-- 6044852408 -->\n",
       "<g class=\"node\" id=\"node23\"><title>6044852408</title>\n",
       "<polygon fill=\"none\" points=\"153,-1387.5 153,-1423.5 282.518,-1423.5 282.518,-1387.5 153,-1387.5\" stroke=\"black\"/>\n",
       "<text font-family=\"Times,serif\" font-size=\"14.00\" text-anchor=\"middle\" x=\"217.759\" y=\"-1401.3\">BatchNormalization</text>\n",
       "</g>\n",
       "<!-- 6043973224&#45;&gt;6044852408 -->\n",
       "<g class=\"edge\" id=\"edge23\"><title>6043973224-&gt;6044852408</title>\n",
       "<path d=\"M215.485,-1460.31C215.824,-1452.29 216.236,-1442.55 216.615,-1433.57\" fill=\"none\" stroke=\"black\"/>\n",
       "<polygon fill=\"black\" points=\"220.114,-1433.67 217.039,-1423.53 213.12,-1433.37 220.114,-1433.67\" stroke=\"black\"/>\n",
       "</g>\n",
       "<!-- 6048557320 -->\n",
       "<g class=\"node\" id=\"node24\"><title>6048557320</title>\n",
       "<polygon fill=\"none\" points=\"59,-1022.5 59,-1058.5 188.518,-1058.5 188.518,-1022.5 59,-1022.5\" stroke=\"black\"/>\n",
       "<text font-family=\"Times,serif\" font-size=\"14.00\" text-anchor=\"middle\" x=\"123.759\" y=\"-1036.3\">BatchNormalization</text>\n",
       "</g>\n",
       "<!-- 6048040328&#45;&gt;6048557320 -->\n",
       "<g class=\"edge\" id=\"edge24\"><title>6048040328-&gt;6048557320</title>\n",
       "<path d=\"M123.001,-1095.31C123.114,-1087.29 123.251,-1077.55 123.378,-1068.57\" fill=\"none\" stroke=\"black\"/>\n",
       "<polygon fill=\"black\" points=\"126.878,-1068.58 123.519,-1058.53 119.878,-1068.48 126.878,-1068.58\" stroke=\"black\"/>\n",
       "</g>\n",
       "<!-- 6049320072 -->\n",
       "<g class=\"node\" id=\"node25\"><title>6049320072</title>\n",
       "<polygon fill=\"none\" points=\"142.759,-949.5 142.759,-985.5 196.759,-985.5 196.759,-949.5 142.759,-949.5\" stroke=\"black\"/>\n",
       "<text font-family=\"Times,serif\" font-size=\"14.00\" text-anchor=\"middle\" x=\"169.314\" y=\"-963.3\">Add</text>\n",
       "</g>\n",
       "<!-- 6044852408&#45;&gt;6049320072 -->\n",
       "<g class=\"edge\" id=\"edge25\"><title>6044852408-&gt;6049320072</title>\n",
       "<path d=\"M217.561,-1387.21C217.27,-1360.18 216.759,-1306.25 216.759,-1260.5 216.759,-1260.5 216.759,-1260.5 216.759,-1112.5 216.759,-1071.4 211.641,-1060.68 197.759,-1022 194.466,-1012.82 189.87,-1003.25 185.353,-994.787\" fill=\"none\" stroke=\"black\"/>\n",
       "<polygon fill=\"black\" points=\"188.268,-992.828 180.359,-985.777 182.145,-996.221 188.268,-992.828\" stroke=\"black\"/>\n",
       "</g>\n",
       "<!-- 6048557320&#45;&gt;6049320072 -->\n",
       "<g class=\"edge\" id=\"edge26\"><title>6048557320-&gt;6049320072</title>\n",
       "<path d=\"M134.894,-1022.31C140.375,-1013.85 147.093,-1003.48 153.165,-994.112\" fill=\"none\" stroke=\"black\"/>\n",
       "<polygon fill=\"black\" points=\"156.226,-995.824 158.726,-985.529 150.351,-992.018 156.226,-995.824\" stroke=\"black\"/>\n",
       "</g>\n",
       "<!-- 6049532896 -->\n",
       "<g class=\"node\" id=\"node26\"><title>6049532896</title>\n",
       "<polygon fill=\"none\" points=\"127.162,-876.5 127.162,-912.5 212.355,-912.5 212.355,-876.5 127.162,-876.5\" stroke=\"black\"/>\n",
       "<text font-family=\"Times,serif\" font-size=\"14.00\" text-anchor=\"middle\" x=\"169.759\" y=\"-890.3\">LeakyReLU</text>\n",
       "</g>\n",
       "<!-- 6049320072&#45;&gt;6049532896 -->\n",
       "<g class=\"edge\" id=\"edge27\"><title>6049320072-&gt;6049532896</title>\n",
       "<path d=\"M169.759,-949.313C169.759,-941.289 169.759,-931.547 169.759,-922.569\" fill=\"none\" stroke=\"black\"/>\n",
       "<polygon fill=\"black\" points=\"173.259,-922.529 169.759,-912.529 166.259,-922.529 173.259,-922.529\" stroke=\"black\"/>\n",
       "</g>\n",
       "<!-- 6051081800 -->\n",
       "<g class=\"node\" id=\"node27\"><title>6051081800</title>\n",
       "<polygon fill=\"none\" points=\"108.035,-803.5 108.035,-839.5 171.483,-839.5 171.483,-803.5 108.035,-803.5\" stroke=\"black\"/>\n",
       "<text font-family=\"Times,serif\" font-size=\"14.00\" text-anchor=\"middle\" x=\"139.759\" y=\"-817.3\">Conv1D</text>\n",
       "</g>\n",
       "<!-- 6049532896&#45;&gt;6051081800 -->\n",
       "<g class=\"edge\" id=\"edge28\"><title>6049532896-&gt;6051081800</title>\n",
       "<path d=\"M162.497,-876.313C159.033,-868.115 154.811,-858.123 150.95,-848.985\" fill=\"none\" stroke=\"black\"/>\n",
       "<polygon fill=\"black\" points=\"154.07,-847.378 146.954,-839.529 147.622,-850.103 154.07,-847.378\" stroke=\"black\"/>\n",
       "</g>\n",
       "<!-- 6049614032 -->\n",
       "<g class=\"node\" id=\"node33\"><title>6049614032</title>\n",
       "<polygon fill=\"none\" points=\"214.035,-730.5 214.035,-766.5 277.483,-766.5 277.483,-730.5 214.035,-730.5\" stroke=\"black\"/>\n",
       "<text font-family=\"Times,serif\" font-size=\"14.00\" text-anchor=\"middle\" x=\"245.759\" y=\"-744.3\">Conv1D</text>\n",
       "</g>\n",
       "<!-- 6049532896&#45;&gt;6049614032 -->\n",
       "<g class=\"edge\" id=\"edge34\"><title>6049532896-&gt;6049614032</title>\n",
       "<path d=\"M178.775,-876.416C191.917,-851.516 216.444,-805.044 231.892,-775.773\" fill=\"none\" stroke=\"black\"/>\n",
       "<polygon fill=\"black\" points=\"235.182,-777.039 236.754,-766.562 228.991,-773.772 235.182,-777.039\" stroke=\"black\"/>\n",
       "</g>\n",
       "<!-- 6051449264 -->\n",
       "<g class=\"node\" id=\"node28\"><title>6051449264</title>\n",
       "<polygon fill=\"none\" points=\"62,-730.5 62,-766.5 191.518,-766.5 191.518,-730.5 62,-730.5\" stroke=\"black\"/>\n",
       "<text font-family=\"Times,serif\" font-size=\"14.00\" text-anchor=\"middle\" x=\"126.759\" y=\"-744.3\">BatchNormalization</text>\n",
       "</g>\n",
       "<!-- 6051081800&#45;&gt;6051449264 -->\n",
       "<g class=\"edge\" id=\"edge29\"><title>6051081800-&gt;6051449264</title>\n",
       "<path d=\"M136.612,-803.313C135.143,-795.289 133.359,-785.547 131.715,-776.569\" fill=\"none\" stroke=\"black\"/>\n",
       "<polygon fill=\"black\" points=\"135.121,-775.735 129.877,-766.529 128.235,-776.996 135.121,-775.735\" stroke=\"black\"/>\n",
       "</g>\n",
       "<!-- 6052347296 -->\n",
       "<g class=\"node\" id=\"node29\"><title>6052347296</title>\n",
       "<polygon fill=\"none\" points=\"81.1621,-657.5 81.1621,-693.5 166.355,-693.5 166.355,-657.5 81.1621,-657.5\" stroke=\"black\"/>\n",
       "<text font-family=\"Times,serif\" font-size=\"14.00\" text-anchor=\"middle\" x=\"123.759\" y=\"-671.3\">LeakyReLU</text>\n",
       "</g>\n",
       "<!-- 6051449264&#45;&gt;6052347296 -->\n",
       "<g class=\"edge\" id=\"edge30\"><title>6051449264-&gt;6052347296</title>\n",
       "<path d=\"M126.033,-730.313C125.694,-722.289 125.282,-712.547 124.903,-703.569\" fill=\"none\" stroke=\"black\"/>\n",
       "<polygon fill=\"black\" points=\"128.397,-703.372 124.478,-693.529 121.404,-703.668 128.397,-703.372\" stroke=\"black\"/>\n",
       "</g>\n",
       "<!-- 6052194904 -->\n",
       "<g class=\"node\" id=\"node30\"><title>6052194904</title>\n",
       "<polygon fill=\"none\" points=\"108.035,-584.5 108.035,-620.5 171.483,-620.5 171.483,-584.5 108.035,-584.5\" stroke=\"black\"/>\n",
       "<text font-family=\"Times,serif\" font-size=\"14.00\" text-anchor=\"middle\" x=\"139.759\" y=\"-598.3\">Conv1D</text>\n",
       "</g>\n",
       "<!-- 6052347296&#45;&gt;6052194904 -->\n",
       "<g class=\"edge\" id=\"edge31\"><title>6052347296-&gt;6052194904</title>\n",
       "<path d=\"M127.632,-657.313C129.44,-649.289 131.635,-639.547 133.659,-630.569\" fill=\"none\" stroke=\"black\"/>\n",
       "<polygon fill=\"black\" points=\"137.137,-631.054 135.921,-620.529 130.308,-629.515 137.137,-631.054\" stroke=\"black\"/>\n",
       "</g>\n",
       "<!-- 6052503504 -->\n",
       "<g class=\"node\" id=\"node31\"><title>6052503504</title>\n",
       "<polygon fill=\"none\" points=\"83,-511.5 83,-547.5 212.518,-547.5 212.518,-511.5 83,-511.5\" stroke=\"black\"/>\n",
       "<text font-family=\"Times,serif\" font-size=\"14.00\" text-anchor=\"middle\" x=\"147.759\" y=\"-525.3\">BatchNormalization</text>\n",
       "</g>\n",
       "<!-- 6052194904&#45;&gt;6052503504 -->\n",
       "<g class=\"edge\" id=\"edge32\"><title>6052194904-&gt;6052503504</title>\n",
       "<path d=\"M141.695,-584.313C142.599,-576.289 143.697,-566.547 144.709,-557.569\" fill=\"none\" stroke=\"black\"/>\n",
       "<polygon fill=\"black\" points=\"148.198,-557.858 145.84,-547.529 141.242,-557.074 148.198,-557.858\" stroke=\"black\"/>\n",
       "</g>\n",
       "<!-- 6053620312 -->\n",
       "<g class=\"node\" id=\"node32\"><title>6053620312</title>\n",
       "<polygon fill=\"none\" points=\"109.162,-438.5 109.162,-474.5 194.355,-474.5 194.355,-438.5 109.162,-438.5\" stroke=\"black\"/>\n",
       "<text font-family=\"Times,serif\" font-size=\"14.00\" text-anchor=\"middle\" x=\"151.759\" y=\"-452.3\">LeakyReLU</text>\n",
       "</g>\n",
       "<!-- 6052503504&#45;&gt;6053620312 -->\n",
       "<g class=\"edge\" id=\"edge33\"><title>6052503504-&gt;6053620312</title>\n",
       "<path d=\"M148.727,-511.313C149.179,-503.289 149.728,-493.547 150.234,-484.569\" fill=\"none\" stroke=\"black\"/>\n",
       "<polygon fill=\"black\" points=\"153.731,-484.71 150.799,-474.529 146.742,-484.316 153.731,-484.71\" stroke=\"black\"/>\n",
       "</g>\n",
       "<!-- 6053821464 -->\n",
       "<g class=\"node\" id=\"node34\"><title>6053821464</title>\n",
       "<polygon fill=\"none\" points=\"122.035,-365.5 122.035,-401.5 185.483,-401.5 185.483,-365.5 122.035,-365.5\" stroke=\"black\"/>\n",
       "<text font-family=\"Times,serif\" font-size=\"14.00\" text-anchor=\"middle\" x=\"153.759\" y=\"-379.3\">Conv1D</text>\n",
       "</g>\n",
       "<!-- 6053620312&#45;&gt;6053821464 -->\n",
       "<g class=\"edge\" id=\"edge35\"><title>6053620312-&gt;6053821464</title>\n",
       "<path d=\"M152.243,-438.313C152.469,-430.289 152.743,-420.547 152.996,-411.569\" fill=\"none\" stroke=\"black\"/>\n",
       "<polygon fill=\"black\" points=\"156.496,-411.623 153.279,-401.529 149.499,-411.426 156.496,-411.623\" stroke=\"black\"/>\n",
       "</g>\n",
       "<!-- 6050025256 -->\n",
       "<g class=\"node\" id=\"node35\"><title>6050025256</title>\n",
       "<polygon fill=\"none\" points=\"184,-657.5 184,-693.5 313.518,-693.5 313.518,-657.5 184,-657.5\" stroke=\"black\"/>\n",
       "<text font-family=\"Times,serif\" font-size=\"14.00\" text-anchor=\"middle\" x=\"248.759\" y=\"-671.3\">BatchNormalization</text>\n",
       "</g>\n",
       "<!-- 6049614032&#45;&gt;6050025256 -->\n",
       "<g class=\"edge\" id=\"edge36\"><title>6049614032-&gt;6050025256</title>\n",
       "<path d=\"M246.485,-730.313C246.824,-722.289 247.236,-712.547 247.615,-703.569\" fill=\"none\" stroke=\"black\"/>\n",
       "<polygon fill=\"black\" points=\"251.114,-703.668 248.039,-693.529 244.12,-703.372 251.114,-703.668\" stroke=\"black\"/>\n",
       "</g>\n",
       "<!-- 6054485576 -->\n",
       "<g class=\"node\" id=\"node36\"><title>6054485576</title>\n",
       "<polygon fill=\"none\" points=\"90,-292.5 90,-328.5 219.518,-328.5 219.518,-292.5 90,-292.5\" stroke=\"black\"/>\n",
       "<text font-family=\"Times,serif\" font-size=\"14.00\" text-anchor=\"middle\" x=\"154.759\" y=\"-306.3\">BatchNormalization</text>\n",
       "</g>\n",
       "<!-- 6053821464&#45;&gt;6054485576 -->\n",
       "<g class=\"edge\" id=\"edge37\"><title>6053821464-&gt;6054485576</title>\n",
       "<path d=\"M154.001,-365.313C154.114,-357.289 154.251,-347.547 154.378,-338.569\" fill=\"none\" stroke=\"black\"/>\n",
       "<polygon fill=\"black\" points=\"157.878,-338.577 154.519,-328.529 150.878,-338.479 157.878,-338.577\" stroke=\"black\"/>\n",
       "</g>\n",
       "<!-- 6055181896 -->\n",
       "<g class=\"node\" id=\"node37\"><title>6055181896</title>\n",
       "<polygon fill=\"none\" points=\"173.759,-219.5 173.759,-255.5 227.759,-255.5 227.759,-219.5 173.759,-219.5\" stroke=\"black\"/>\n",
       "<text font-family=\"Times,serif\" font-size=\"14.00\" text-anchor=\"middle\" x=\"200.314\" y=\"-233.3\">Add</text>\n",
       "</g>\n",
       "<!-- 6050025256&#45;&gt;6055181896 -->\n",
       "<g class=\"edge\" id=\"edge38\"><title>6050025256-&gt;6055181896</title>\n",
       "<path d=\"M248.561,-657.211C248.27,-630.177 247.759,-576.251 247.759,-530.5 247.759,-530.5 247.759,-530.5 247.759,-382.5 247.759,-341.401 242.641,-330.684 228.759,-292 225.466,-282.823 220.87,-273.254 216.353,-264.787\" fill=\"none\" stroke=\"black\"/>\n",
       "<polygon fill=\"black\" points=\"219.268,-262.828 211.359,-255.777 213.145,-266.221 219.268,-262.828\" stroke=\"black\"/>\n",
       "</g>\n",
       "<!-- 6054485576&#45;&gt;6055181896 -->\n",
       "<g class=\"edge\" id=\"edge39\"><title>6054485576-&gt;6055181896</title>\n",
       "<path d=\"M165.894,-292.313C171.375,-283.853 178.093,-273.484 184.165,-264.112\" fill=\"none\" stroke=\"black\"/>\n",
       "<polygon fill=\"black\" points=\"187.226,-265.824 189.726,-255.529 181.351,-262.018 187.226,-265.824\" stroke=\"black\"/>\n",
       "</g>\n",
       "<!-- 6055672800 -->\n",
       "<g class=\"node\" id=\"node38\"><title>6055672800</title>\n",
       "<polygon fill=\"none\" points=\"158.162,-146.5 158.162,-182.5 243.355,-182.5 243.355,-146.5 158.162,-146.5\" stroke=\"black\"/>\n",
       "<text font-family=\"Times,serif\" font-size=\"14.00\" text-anchor=\"middle\" x=\"200.759\" y=\"-160.3\">LeakyReLU</text>\n",
       "</g>\n",
       "<!-- 6055181896&#45;&gt;6055672800 -->\n",
       "<g class=\"edge\" id=\"edge40\"><title>6055181896-&gt;6055672800</title>\n",
       "<path d=\"M200.759,-219.313C200.759,-211.289 200.759,-201.547 200.759,-192.569\" fill=\"none\" stroke=\"black\"/>\n",
       "<polygon fill=\"black\" points=\"204.259,-192.529 200.759,-182.529 197.259,-192.529 204.259,-192.529\" stroke=\"black\"/>\n",
       "</g>\n",
       "<!-- 6044348368 -->\n",
       "<g class=\"node\" id=\"node39\"><title>6044348368</title>\n",
       "<polygon fill=\"none\" points=\"120.178,-73.5 120.178,-109.5 281.339,-109.5 281.339,-73.5 120.178,-73.5\" stroke=\"black\"/>\n",
       "<text font-family=\"Times,serif\" font-size=\"14.00\" text-anchor=\"middle\" x=\"200.759\" y=\"-87.3\">GlobalAveragePooling1D</text>\n",
       "</g>\n",
       "<!-- 6055672800&#45;&gt;6044348368 -->\n",
       "<g class=\"edge\" id=\"edge41\"><title>6055672800-&gt;6044348368</title>\n",
       "<path d=\"M200.759,-146.313C200.759,-138.289 200.759,-128.547 200.759,-119.569\" fill=\"none\" stroke=\"black\"/>\n",
       "<polygon fill=\"black\" points=\"204.259,-119.529 200.759,-109.529 197.259,-119.529 204.259,-119.529\" stroke=\"black\"/>\n",
       "</g>\n",
       "<!-- 6055033376 -->\n",
       "<g class=\"node\" id=\"node40\"><title>6055033376</title>\n",
       "<polygon fill=\"none\" points=\"173.759,-0.5 173.759,-36.5 227.759,-36.5 227.759,-0.5 173.759,-0.5\" stroke=\"black\"/>\n",
       "<text font-family=\"Times,serif\" font-size=\"14.00\" text-anchor=\"middle\" x=\"200.752\" y=\"-14.3\">Dense</text>\n",
       "</g>\n",
       "<!-- 6044348368&#45;&gt;6055033376 -->\n",
       "<g class=\"edge\" id=\"edge42\"><title>6044348368-&gt;6055033376</title>\n",
       "<path d=\"M200.759,-73.3129C200.759,-65.2895 200.759,-55.5475 200.759,-46.5691\" fill=\"none\" stroke=\"black\"/>\n",
       "<polygon fill=\"black\" points=\"204.259,-46.5288 200.759,-36.5288 197.259,-46.5289 204.259,-46.5288\" stroke=\"black\"/>\n",
       "</g>\n",
       "</g>\n",
       "</svg>"
      ],
      "text/plain": [
       "<IPython.core.display.SVG object>"
      ]
     },
     "execution_count": 87,
     "metadata": {},
     "output_type": "execute_result"
    }
   ],
   "source": [
    "from IPython.display import SVG\n",
    "from keras.utils.vis_utils import model_to_dot\n",
    "\n",
    "SVG(model_to_dot(model_resnext1d, \n",
    "                 show_layer_names=False, \n",
    "                 show_shapes=False).create(prog='dot', format='svg'))\n"
   ]
  },
  {
   "cell_type": "code",
   "execution_count": 88,
   "metadata": {
    "collapsed": true
   },
   "outputs": [],
   "source": [
    "log_file_fn = 'log_trash.csv'\n",
    "my_log_file_path = os.path.join(interim_trash_dir, log_file_fn)\n",
    "\n",
    "log_fig_fn = 'log_fig.png'\n",
    "my_log_fig_path = os.path.join(interim_trash_dir, log_fig_fn)"
   ]
  },
  {
   "cell_type": "code",
   "execution_count": 96,
   "metadata": {},
   "outputs": [
    {
     "data": {
      "image/png": "[encoded data removed]",
      "text/plain": [
       "<matplotlib.figure.Figure at 0x14dc8e048>"
      ]
     },
     "metadata": {},
     "output_type": "display_data"
    },
    {
     "name": "stdout",
     "output_type": "stream",
     "text": [
      "5740/5740 [==============================] - 7244s - loss: 1.9589 - acc: 0.4920 - val_loss: 2.4752 - val_acc: 0.3268\n",
      "                                          "
     ]
    }
   ],
   "source": [
    "# fit\n",
    "model_resnext1d.fit(X_train, Y_train,\n",
    "                    batch_size=2, epochs=3, verbose=1,\n",
    "                    callbacks=[DualPlotCallback(log_file_path=my_log_file_path, \n",
    "                                                log_fig_path=my_log_fig_path)],\n",
    "                    validation_data=(X_test, Y_test),\n",
    "                    shuffle=\"batch\")\n",
    "\n",
    "# sleep after training\n",
    "computer_sleep(seconds_until_sleep=10, verbose=1)"
   ]
  },
  {
   "cell_type": "markdown",
   "metadata": {},
   "source": [
    "    # fit\n",
    "    model_resnext1d.fit(X_train, Y_train,\n",
    "                        batch_size=2, epochs=3, verbose=1,\n",
    "                        callbacks=[DualPlotCallback(log_file_path=my_log_file_path, \n",
    "                                                    log_fig_path=my_log_fig_path)],\n",
    "                        validation_data=(X_test, Y_test),\n",
    "                        shuffle=\"batch\", \n",
    "                        steps_per_epoch=100)\n",
    "\n",
    "    # sleep after training\n",
    "    computer_sleep(seconds_until_sleep=10, verbose=1)"
   ]
  },
  {
   "cell_type": "code",
   "execution_count": null,
   "metadata": {},
   "outputs": [],
   "source": []
  },
  {
   "cell_type": "code",
   "execution_count": null,
   "metadata": {
    "collapsed": true
   },
   "outputs": [],
   "source": []
  }
 ],
 "metadata": {
  "kernelspec": {
   "display_name": "Python 3",
   "language": "python",
   "name": "python3"
  },
  "language_info": {
   "codemirror_mode": {
    "name": "ipython",
    "version": 3
   },
   "file_extension": ".py",
   "mimetype": "text/x-python",
   "name": "python",
   "nbconvert_exporter": "python",
   "pygments_lexer": "ipython3",
   "version": "3.6.1"
  }
 },
 "nbformat": 4,
 "nbformat_minor": 2
}
