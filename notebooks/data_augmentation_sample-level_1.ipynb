{
 "cells": [
  {
   "cell_type": "markdown",
   "metadata": {},
   "source": [
    "### Import libraries and modify notebook settings"
   ]
  },
  {
   "cell_type": "code",
   "execution_count": null,
   "metadata": {
    "collapsed": true
   },
   "outputs": [],
   "source": [
    "# Import libraries\n",
    "import os\n",
    "import sys\n",
    "import h5py\n",
    "import numpy as np\n",
    "import pandas as pd\n",
    "import librosa\n",
    "#import librosa.display\n",
    "import matplotlib.pyplot as plt\n",
    "\n",
    "# Modify notebook settings\n",
    "%matplotlib inline"
   ]
  },
  {
   "cell_type": "code",
   "execution_count": 2,
   "metadata": {
    "collapsed": true
   },
   "outputs": [],
   "source": [
    "from IPython.display import Audio"
   ]
  },
  {
   "cell_type": "markdown",
   "metadata": {},
   "source": [
    "### Create paths to data folders and files"
   ]
  },
  {
   "cell_type": "code",
   "execution_count": 3,
   "metadata": {
    "collapsed": true
   },
   "outputs": [],
   "source": [
    "# Create a variable for the project root directory\n",
    "proj_root = os.path.join(os.pardir)\n",
    "\n",
    "# Save path to the raw metadata file\n",
    "# \"UrbanSound8K.csv\"\n",
    "metadata_file = os.path.join(proj_root,\n",
    "                             \"data\",\n",
    "                             \"raw\",\n",
    "                             \"UrbanSound8K\",\n",
    "                             \"metadata\",\n",
    "                             \"UrbanSound8K.csv\")\n",
    "\n",
    "# Save path to the raw audio files\n",
    "raw_audio_path = os.path.join(proj_root,\n",
    "                             \"data\",\n",
    "                             \"raw\",\n",
    "                             \"UrbanSound8K\",\n",
    "                             \"audio\")\n",
    "\n",
    "# Save the path to the folder that will contain \n",
    "# the interim data sets for modeling:\n",
    "# /data/interim\n",
    "interim_data_dir = os.path.join(proj_root,\n",
    "                                \"data\",\n",
    "                                \"interim\")\n",
    "\n",
    "# Save path to the folder for the\n",
    "# spectrogram arrays that we will generate\n",
    "spectrogram_arrays_path = os.path.join(interim_data_dir,\n",
    "                                       \"spectrogram_arrays\")\n"
   ]
  },
  {
   "cell_type": "code",
   "execution_count": 4,
   "metadata": {
    "collapsed": true
   },
   "outputs": [],
   "source": [
    "# add the 'src' directory as one where we can import modules\n",
    "src_dir = os.path.join(proj_root, \"src\")\n",
    "sys.path.append(src_dir)"
   ]
  },
  {
   "cell_type": "markdown",
   "metadata": {},
   "source": [
    "### Inspect the metadata"
   ]
  },
  {
   "cell_type": "code",
   "execution_count": 5,
   "metadata": {
    "collapsed": true
   },
   "outputs": [],
   "source": [
    "df_metadata = pd.read_csv(metadata_file)"
   ]
  },
  {
   "cell_type": "code",
   "execution_count": 6,
   "metadata": {},
   "outputs": [
    {
     "data": {
      "text/html": [
       "<div>\n",
       "<style>\n",
       "    .dataframe thead tr:only-child th {\n",
       "        text-align: right;\n",
       "    }\n",
       "\n",
       "    .dataframe thead th {\n",
       "        text-align: left;\n",
       "    }\n",
       "\n",
       "    .dataframe tbody tr th {\n",
       "        vertical-align: top;\n",
       "    }\n",
       "</style>\n",
       "<table border=\"1\" class=\"dataframe\">\n",
       "  <thead>\n",
       "    <tr style=\"text-align: right;\">\n",
       "      <th></th>\n",
       "      <th>slice_file_name</th>\n",
       "      <th>fsID</th>\n",
       "      <th>start</th>\n",
       "      <th>end</th>\n",
       "      <th>salience</th>\n",
       "      <th>fold</th>\n",
       "      <th>classID</th>\n",
       "      <th>class</th>\n",
       "    </tr>\n",
       "  </thead>\n",
       "  <tbody>\n",
       "    <tr>\n",
       "      <th>0</th>\n",
       "      <td>100032-3-0-0.wav</td>\n",
       "      <td>100032</td>\n",
       "      <td>0.0</td>\n",
       "      <td>0.317551</td>\n",
       "      <td>1</td>\n",
       "      <td>5</td>\n",
       "      <td>3</td>\n",
       "      <td>dog_bark</td>\n",
       "    </tr>\n",
       "    <tr>\n",
       "      <th>1</th>\n",
       "      <td>100263-2-0-117.wav</td>\n",
       "      <td>100263</td>\n",
       "      <td>58.5</td>\n",
       "      <td>62.500000</td>\n",
       "      <td>1</td>\n",
       "      <td>5</td>\n",
       "      <td>2</td>\n",
       "      <td>children_playing</td>\n",
       "    </tr>\n",
       "    <tr>\n",
       "      <th>2</th>\n",
       "      <td>100263-2-0-121.wav</td>\n",
       "      <td>100263</td>\n",
       "      <td>60.5</td>\n",
       "      <td>64.500000</td>\n",
       "      <td>1</td>\n",
       "      <td>5</td>\n",
       "      <td>2</td>\n",
       "      <td>children_playing</td>\n",
       "    </tr>\n",
       "    <tr>\n",
       "      <th>3</th>\n",
       "      <td>100263-2-0-126.wav</td>\n",
       "      <td>100263</td>\n",
       "      <td>63.0</td>\n",
       "      <td>67.000000</td>\n",
       "      <td>1</td>\n",
       "      <td>5</td>\n",
       "      <td>2</td>\n",
       "      <td>children_playing</td>\n",
       "    </tr>\n",
       "    <tr>\n",
       "      <th>4</th>\n",
       "      <td>100263-2-0-137.wav</td>\n",
       "      <td>100263</td>\n",
       "      <td>68.5</td>\n",
       "      <td>72.500000</td>\n",
       "      <td>1</td>\n",
       "      <td>5</td>\n",
       "      <td>2</td>\n",
       "      <td>children_playing</td>\n",
       "    </tr>\n",
       "  </tbody>\n",
       "</table>\n",
       "</div>"
      ],
      "text/plain": [
       "      slice_file_name    fsID  start        end  salience  fold  classID  \\\n",
       "0    100032-3-0-0.wav  100032    0.0   0.317551         1     5        3   \n",
       "1  100263-2-0-117.wav  100263   58.5  62.500000         1     5        2   \n",
       "2  100263-2-0-121.wav  100263   60.5  64.500000         1     5        2   \n",
       "3  100263-2-0-126.wav  100263   63.0  67.000000         1     5        2   \n",
       "4  100263-2-0-137.wav  100263   68.5  72.500000         1     5        2   \n",
       "\n",
       "              class  \n",
       "0          dog_bark  \n",
       "1  children_playing  \n",
       "2  children_playing  \n",
       "3  children_playing  \n",
       "4  children_playing  "
      ]
     },
     "execution_count": 6,
     "metadata": {},
     "output_type": "execute_result"
    }
   ],
   "source": [
    "df_metadata.head()"
   ]
  },
  {
   "cell_type": "code",
   "execution_count": 7,
   "metadata": {},
   "outputs": [
    {
     "data": {
      "text/plain": [
       "8732"
      ]
     },
     "execution_count": 7,
     "metadata": {},
     "output_type": "execute_result"
    }
   ],
   "source": [
    "total_obs = len(df_metadata)\n",
    "total_obs"
   ]
  },
  {
   "cell_type": "markdown",
   "metadata": {},
   "source": [
    "#### Is the proportion of observations for each class is roughly similar across the ten folds?\n",
    "Groupby class and fold"
   ]
  },
  {
   "cell_type": "code",
   "execution_count": 8,
   "metadata": {},
   "outputs": [
    {
     "data": {
      "text/html": [
       "<div>\n",
       "<style>\n",
       "    .dataframe thead tr:only-child th {\n",
       "        text-align: right;\n",
       "    }\n",
       "\n",
       "    .dataframe thead th {\n",
       "        text-align: left;\n",
       "    }\n",
       "\n",
       "    .dataframe tbody tr th {\n",
       "        vertical-align: top;\n",
       "    }\n",
       "</style>\n",
       "<table border=\"1\" class=\"dataframe\">\n",
       "  <thead>\n",
       "    <tr style=\"text-align: right;\">\n",
       "      <th>fold</th>\n",
       "      <th>1</th>\n",
       "      <th>2</th>\n",
       "      <th>3</th>\n",
       "      <th>4</th>\n",
       "      <th>5</th>\n",
       "      <th>6</th>\n",
       "      <th>7</th>\n",
       "      <th>8</th>\n",
       "      <th>9</th>\n",
       "      <th>10</th>\n",
       "    </tr>\n",
       "    <tr>\n",
       "      <th>class</th>\n",
       "      <th></th>\n",
       "      <th></th>\n",
       "      <th></th>\n",
       "      <th></th>\n",
       "      <th></th>\n",
       "      <th></th>\n",
       "      <th></th>\n",
       "      <th></th>\n",
       "      <th></th>\n",
       "      <th></th>\n",
       "    </tr>\n",
       "  </thead>\n",
       "  <tbody>\n",
       "    <tr>\n",
       "      <th>air_conditioner</th>\n",
       "      <td>100</td>\n",
       "      <td>100</td>\n",
       "      <td>100</td>\n",
       "      <td>100</td>\n",
       "      <td>100</td>\n",
       "      <td>100</td>\n",
       "      <td>100</td>\n",
       "      <td>100</td>\n",
       "      <td>100</td>\n",
       "      <td>100</td>\n",
       "    </tr>\n",
       "    <tr>\n",
       "      <th>car_horn</th>\n",
       "      <td>36</td>\n",
       "      <td>42</td>\n",
       "      <td>43</td>\n",
       "      <td>59</td>\n",
       "      <td>98</td>\n",
       "      <td>28</td>\n",
       "      <td>28</td>\n",
       "      <td>30</td>\n",
       "      <td>32</td>\n",
       "      <td>33</td>\n",
       "    </tr>\n",
       "    <tr>\n",
       "      <th>children_playing</th>\n",
       "      <td>100</td>\n",
       "      <td>100</td>\n",
       "      <td>100</td>\n",
       "      <td>100</td>\n",
       "      <td>100</td>\n",
       "      <td>100</td>\n",
       "      <td>100</td>\n",
       "      <td>100</td>\n",
       "      <td>100</td>\n",
       "      <td>100</td>\n",
       "    </tr>\n",
       "    <tr>\n",
       "      <th>dog_bark</th>\n",
       "      <td>100</td>\n",
       "      <td>100</td>\n",
       "      <td>100</td>\n",
       "      <td>100</td>\n",
       "      <td>100</td>\n",
       "      <td>100</td>\n",
       "      <td>100</td>\n",
       "      <td>100</td>\n",
       "      <td>100</td>\n",
       "      <td>100</td>\n",
       "    </tr>\n",
       "    <tr>\n",
       "      <th>drilling</th>\n",
       "      <td>100</td>\n",
       "      <td>100</td>\n",
       "      <td>100</td>\n",
       "      <td>100</td>\n",
       "      <td>100</td>\n",
       "      <td>100</td>\n",
       "      <td>100</td>\n",
       "      <td>100</td>\n",
       "      <td>100</td>\n",
       "      <td>100</td>\n",
       "    </tr>\n",
       "    <tr>\n",
       "      <th>engine_idling</th>\n",
       "      <td>96</td>\n",
       "      <td>100</td>\n",
       "      <td>107</td>\n",
       "      <td>107</td>\n",
       "      <td>107</td>\n",
       "      <td>107</td>\n",
       "      <td>106</td>\n",
       "      <td>88</td>\n",
       "      <td>89</td>\n",
       "      <td>93</td>\n",
       "    </tr>\n",
       "    <tr>\n",
       "      <th>gun_shot</th>\n",
       "      <td>35</td>\n",
       "      <td>35</td>\n",
       "      <td>36</td>\n",
       "      <td>38</td>\n",
       "      <td>40</td>\n",
       "      <td>46</td>\n",
       "      <td>51</td>\n",
       "      <td>30</td>\n",
       "      <td>31</td>\n",
       "      <td>32</td>\n",
       "    </tr>\n",
       "    <tr>\n",
       "      <th>jackhammer</th>\n",
       "      <td>120</td>\n",
       "      <td>120</td>\n",
       "      <td>120</td>\n",
       "      <td>120</td>\n",
       "      <td>120</td>\n",
       "      <td>68</td>\n",
       "      <td>76</td>\n",
       "      <td>78</td>\n",
       "      <td>82</td>\n",
       "      <td>96</td>\n",
       "    </tr>\n",
       "    <tr>\n",
       "      <th>siren</th>\n",
       "      <td>86</td>\n",
       "      <td>91</td>\n",
       "      <td>119</td>\n",
       "      <td>166</td>\n",
       "      <td>71</td>\n",
       "      <td>74</td>\n",
       "      <td>77</td>\n",
       "      <td>80</td>\n",
       "      <td>82</td>\n",
       "      <td>83</td>\n",
       "    </tr>\n",
       "    <tr>\n",
       "      <th>street_music</th>\n",
       "      <td>100</td>\n",
       "      <td>100</td>\n",
       "      <td>100</td>\n",
       "      <td>100</td>\n",
       "      <td>100</td>\n",
       "      <td>100</td>\n",
       "      <td>100</td>\n",
       "      <td>100</td>\n",
       "      <td>100</td>\n",
       "      <td>100</td>\n",
       "    </tr>\n",
       "  </tbody>\n",
       "</table>\n",
       "</div>"
      ],
      "text/plain": [
       "fold               1    2    3    4    5    6    7    8    9    10\n",
       "class                                                             \n",
       "air_conditioner   100  100  100  100  100  100  100  100  100  100\n",
       "car_horn           36   42   43   59   98   28   28   30   32   33\n",
       "children_playing  100  100  100  100  100  100  100  100  100  100\n",
       "dog_bark          100  100  100  100  100  100  100  100  100  100\n",
       "drilling          100  100  100  100  100  100  100  100  100  100\n",
       "engine_idling      96  100  107  107  107  107  106   88   89   93\n",
       "gun_shot           35   35   36   38   40   46   51   30   31   32\n",
       "jackhammer        120  120  120  120  120   68   76   78   82   96\n",
       "siren              86   91  119  166   71   74   77   80   82   83\n",
       "street_music      100  100  100  100  100  100  100  100  100  100"
      ]
     },
     "execution_count": 8,
     "metadata": {},
     "output_type": "execute_result"
    }
   ],
   "source": [
    "df_metadata.groupby(['class','fold'])['fold'].count().unstack()"
   ]
  },
  {
   "cell_type": "markdown",
   "metadata": {},
   "source": [
    "The proportion of observations for each class is roughly similar across the ten folds."
   ]
  },
  {
   "cell_type": "markdown",
   "metadata": {},
   "source": [
    "#### Do all of the audio clips have the same length?\n",
    "\n",
    "We want to only use clips that have the same temporal length.  Otherwise, the shape (dimensions) of features that we feed the CNN would not be uniform.  In other words, once we create spectrograms from each `.wav` file, we want all of the spectrograms to have the same width."
   ]
  },
  {
   "cell_type": "code",
   "execution_count": 9,
   "metadata": {},
   "outputs": [
    {
     "data": {
      "text/plain": [
       "4.000000    6573\n",
       "4.000000     155\n",
       "4.000000     128\n",
       "4.000000      92\n",
       "4.000000      86\n",
       "4.000000      82\n",
       "4.000000      57\n",
       "4.000000      54\n",
       "4.000000      31\n",
       "4.000000      20\n",
       "4.000000      13\n",
       "4.000000      10\n",
       "4.000000       8\n",
       "4.000000       7\n",
       "4.000000       5\n",
       "4.000000       5\n",
       "4.000000       5\n",
       "2.399496       2\n",
       "0.530784       2\n",
       "0.598078       2\n",
       "1.832272       2\n",
       "0.691628       2\n",
       "1.149388       2\n",
       "0.611206       2\n",
       "1.358367       2\n",
       "dtype: int64"
      ]
     },
     "execution_count": 9,
     "metadata": {},
     "output_type": "execute_result"
    }
   ],
   "source": [
    "(df_metadata.end - df_metadata.start).value_counts().head(25)"
   ]
  },
  {
   "cell_type": "markdown",
   "metadata": {},
   "source": [
    "The majority of the audio clips are approximately 4 seconds long.  Therefore, we will only use audio clips are approximately 4 seconds long and exclude the other audio clips.\n",
    "\n",
    "Let us filter for the observations that had audio clips that are approximately 4 seconds long."
   ]
  },
  {
   "cell_type": "code",
   "execution_count": 10,
   "metadata": {
    "collapsed": true
   },
   "outputs": [],
   "source": [
    "# Filter for the observations that had audio clips \n",
    "# that are approximately 4 seconds long.\n",
    "bool_mask = np.isclose((df_metadata.end - df_metadata.start), \n",
    "                       4,\n",
    "                       rtol=1e-05)\n",
    "\n",
    "df_metadata_4s = df_metadata[bool_mask]"
   ]
  },
  {
   "cell_type": "markdown",
   "metadata": {},
   "source": [
    "How much data are we left with?"
   ]
  },
  {
   "cell_type": "code",
   "execution_count": 11,
   "metadata": {},
   "outputs": [
    {
     "data": {
      "text/plain": [
       "7333"
      ]
     },
     "execution_count": 11,
     "metadata": {},
     "output_type": "execute_result"
    }
   ],
   "source": [
    "len(df_metadata_4s)"
   ]
  },
  {
   "cell_type": "code",
   "execution_count": 12,
   "metadata": {},
   "outputs": [
    {
     "data": {
      "text/plain": [
       "0.8397846999541915"
      ]
     },
     "execution_count": 12,
     "metadata": {},
     "output_type": "execute_result"
    }
   ],
   "source": [
    "len(df_metadata_4s) / total_obs"
   ]
  },
  {
   "cell_type": "markdown",
   "metadata": {},
   "source": [
    "We still have 7333 observations, or about 84% of the original data."
   ]
  },
  {
   "cell_type": "markdown",
   "metadata": {},
   "source": [
    "#### Are the folds still even? Does each class have enough data?\n",
    "\n",
    "After filtering for the observations that had audio clips that are approximately 4 seconds long, does each class still have enough data?\n",
    "Are there roughly the same number of observations for each class across all folds?"
   ]
  },
  {
   "cell_type": "code",
   "execution_count": 13,
   "metadata": {},
   "outputs": [
    {
     "data": {
      "text/html": [
       "<div>\n",
       "<style>\n",
       "    .dataframe thead tr:only-child th {\n",
       "        text-align: right;\n",
       "    }\n",
       "\n",
       "    .dataframe thead th {\n",
       "        text-align: left;\n",
       "    }\n",
       "\n",
       "    .dataframe tbody tr th {\n",
       "        vertical-align: top;\n",
       "    }\n",
       "</style>\n",
       "<table border=\"1\" class=\"dataframe\">\n",
       "  <thead>\n",
       "    <tr style=\"text-align: right;\">\n",
       "      <th>fold</th>\n",
       "      <th>1</th>\n",
       "      <th>2</th>\n",
       "      <th>3</th>\n",
       "      <th>4</th>\n",
       "      <th>5</th>\n",
       "      <th>6</th>\n",
       "      <th>7</th>\n",
       "      <th>8</th>\n",
       "      <th>9</th>\n",
       "      <th>10</th>\n",
       "    </tr>\n",
       "    <tr>\n",
       "      <th>class</th>\n",
       "      <th></th>\n",
       "      <th></th>\n",
       "      <th></th>\n",
       "      <th></th>\n",
       "      <th></th>\n",
       "      <th></th>\n",
       "      <th></th>\n",
       "      <th></th>\n",
       "      <th></th>\n",
       "      <th></th>\n",
       "    </tr>\n",
       "  </thead>\n",
       "  <tbody>\n",
       "    <tr>\n",
       "      <th>air_conditioner</th>\n",
       "      <td>99.0</td>\n",
       "      <td>99.0</td>\n",
       "      <td>100.0</td>\n",
       "      <td>100.0</td>\n",
       "      <td>99.0</td>\n",
       "      <td>100.0</td>\n",
       "      <td>100.0</td>\n",
       "      <td>100.0</td>\n",
       "      <td>100.0</td>\n",
       "      <td>100.0</td>\n",
       "    </tr>\n",
       "    <tr>\n",
       "      <th>car_horn</th>\n",
       "      <td>14.0</td>\n",
       "      <td>16.0</td>\n",
       "      <td>22.0</td>\n",
       "      <td>36.0</td>\n",
       "      <td>70.0</td>\n",
       "      <td>10.0</td>\n",
       "      <td>5.0</td>\n",
       "      <td>9.0</td>\n",
       "      <td>5.0</td>\n",
       "      <td>16.0</td>\n",
       "    </tr>\n",
       "    <tr>\n",
       "      <th>children_playing</th>\n",
       "      <td>97.0</td>\n",
       "      <td>98.0</td>\n",
       "      <td>98.0</td>\n",
       "      <td>97.0</td>\n",
       "      <td>97.0</td>\n",
       "      <td>98.0</td>\n",
       "      <td>98.0</td>\n",
       "      <td>99.0</td>\n",
       "      <td>96.0</td>\n",
       "      <td>98.0</td>\n",
       "    </tr>\n",
       "    <tr>\n",
       "      <th>dog_bark</th>\n",
       "      <td>67.0</td>\n",
       "      <td>64.0</td>\n",
       "      <td>72.0</td>\n",
       "      <td>64.0</td>\n",
       "      <td>68.0</td>\n",
       "      <td>63.0</td>\n",
       "      <td>77.0</td>\n",
       "      <td>66.0</td>\n",
       "      <td>66.0</td>\n",
       "      <td>68.0</td>\n",
       "    </tr>\n",
       "    <tr>\n",
       "      <th>drilling</th>\n",
       "      <td>82.0</td>\n",
       "      <td>67.0</td>\n",
       "      <td>88.0</td>\n",
       "      <td>90.0</td>\n",
       "      <td>64.0</td>\n",
       "      <td>83.0</td>\n",
       "      <td>97.0</td>\n",
       "      <td>72.0</td>\n",
       "      <td>78.0</td>\n",
       "      <td>84.0</td>\n",
       "    </tr>\n",
       "    <tr>\n",
       "      <th>engine_idling</th>\n",
       "      <td>94.0</td>\n",
       "      <td>98.0</td>\n",
       "      <td>100.0</td>\n",
       "      <td>104.0</td>\n",
       "      <td>101.0</td>\n",
       "      <td>107.0</td>\n",
       "      <td>102.0</td>\n",
       "      <td>77.0</td>\n",
       "      <td>89.0</td>\n",
       "      <td>89.0</td>\n",
       "    </tr>\n",
       "    <tr>\n",
       "      <th>gun_shot</th>\n",
       "      <td>NaN</td>\n",
       "      <td>1.0</td>\n",
       "      <td>NaN</td>\n",
       "      <td>4.0</td>\n",
       "      <td>NaN</td>\n",
       "      <td>NaN</td>\n",
       "      <td>11.0</td>\n",
       "      <td>NaN</td>\n",
       "      <td>NaN</td>\n",
       "      <td>NaN</td>\n",
       "    </tr>\n",
       "    <tr>\n",
       "      <th>jackhammer</th>\n",
       "      <td>104.0</td>\n",
       "      <td>101.0</td>\n",
       "      <td>104.0</td>\n",
       "      <td>58.0</td>\n",
       "      <td>106.0</td>\n",
       "      <td>67.0</td>\n",
       "      <td>54.0</td>\n",
       "      <td>59.0</td>\n",
       "      <td>77.0</td>\n",
       "      <td>73.0</td>\n",
       "    </tr>\n",
       "    <tr>\n",
       "      <th>siren</th>\n",
       "      <td>86.0</td>\n",
       "      <td>91.0</td>\n",
       "      <td>118.0</td>\n",
       "      <td>158.0</td>\n",
       "      <td>64.0</td>\n",
       "      <td>73.0</td>\n",
       "      <td>72.0</td>\n",
       "      <td>79.0</td>\n",
       "      <td>79.0</td>\n",
       "      <td>77.0</td>\n",
       "    </tr>\n",
       "    <tr>\n",
       "      <th>street_music</th>\n",
       "      <td>100.0</td>\n",
       "      <td>100.0</td>\n",
       "      <td>100.0</td>\n",
       "      <td>100.0</td>\n",
       "      <td>100.0</td>\n",
       "      <td>100.0</td>\n",
       "      <td>100.0</td>\n",
       "      <td>100.0</td>\n",
       "      <td>100.0</td>\n",
       "      <td>100.0</td>\n",
       "    </tr>\n",
       "  </tbody>\n",
       "</table>\n",
       "</div>"
      ],
      "text/plain": [
       "fold                 1      2      3      4      5      6      7      8   \\\n",
       "class                                                                      \n",
       "air_conditioner    99.0   99.0  100.0  100.0   99.0  100.0  100.0  100.0   \n",
       "car_horn           14.0   16.0   22.0   36.0   70.0   10.0    5.0    9.0   \n",
       "children_playing   97.0   98.0   98.0   97.0   97.0   98.0   98.0   99.0   \n",
       "dog_bark           67.0   64.0   72.0   64.0   68.0   63.0   77.0   66.0   \n",
       "drilling           82.0   67.0   88.0   90.0   64.0   83.0   97.0   72.0   \n",
       "engine_idling      94.0   98.0  100.0  104.0  101.0  107.0  102.0   77.0   \n",
       "gun_shot            NaN    1.0    NaN    4.0    NaN    NaN   11.0    NaN   \n",
       "jackhammer        104.0  101.0  104.0   58.0  106.0   67.0   54.0   59.0   \n",
       "siren              86.0   91.0  118.0  158.0   64.0   73.0   72.0   79.0   \n",
       "street_music      100.0  100.0  100.0  100.0  100.0  100.0  100.0  100.0   \n",
       "\n",
       "fold                 9      10  \n",
       "class                           \n",
       "air_conditioner   100.0  100.0  \n",
       "car_horn            5.0   16.0  \n",
       "children_playing   96.0   98.0  \n",
       "dog_bark           66.0   68.0  \n",
       "drilling           78.0   84.0  \n",
       "engine_idling      89.0   89.0  \n",
       "gun_shot            NaN    NaN  \n",
       "jackhammer         77.0   73.0  \n",
       "siren              79.0   77.0  \n",
       "street_music      100.0  100.0  "
      ]
     },
     "execution_count": 13,
     "metadata": {},
     "output_type": "execute_result"
    }
   ],
   "source": [
    "df_metadata_4s.groupby(['class','fold'])['fold'].count().unstack()"
   ]
  },
  {
   "cell_type": "markdown",
   "metadata": {},
   "source": [
    "It appears that many of the audio clips that were less than 4 seconds long were recordings of gun shots.  There are now too few observations of the `gun_shot` class in our filtered data set to create a predictive model for that class.  We will remove the few remaining observations of the `gun_shot` class.\n",
    "\n",
    "In a similar vein, there may be too few observations of the `car_horn` class to create a predictive model for that class.  Therefore, we will remove observations of the `car_horn` class."
   ]
  },
  {
   "cell_type": "code",
   "execution_count": 14,
   "metadata": {
    "collapsed": true
   },
   "outputs": [],
   "source": [
    "# Create boolean filters\n",
    "not_gun_shot = (df_metadata_4s['class'] != 'gun_shot')\n",
    "not_car_horn = (df_metadata_4s['class'] != 'car_horn')\n",
    "\n",
    "# Filter the df\n",
    "df_metadata_filtered = df_metadata_4s[not_gun_shot & not_car_horn]\n",
    "\n",
    "# reset_index\n",
    "df_metadata_filtered.reset_index(drop=False, inplace=True)"
   ]
  },
  {
   "cell_type": "code",
   "execution_count": 15,
   "metadata": {},
   "outputs": [
    {
     "data": {
      "text/plain": [
       "7114"
      ]
     },
     "execution_count": 15,
     "metadata": {},
     "output_type": "execute_result"
    }
   ],
   "source": [
    "len(df_metadata_filtered)"
   ]
  },
  {
   "cell_type": "code",
   "execution_count": 16,
   "metadata": {},
   "outputs": [
    {
     "data": {
      "text/plain": [
       "0.8147045350435181"
      ]
     },
     "execution_count": 16,
     "metadata": {},
     "output_type": "execute_result"
    }
   ],
   "source": [
    "len(df_metadata_filtered) / total_obs"
   ]
  },
  {
   "cell_type": "markdown",
   "metadata": {},
   "source": [
    "We still have 7114 observations, or about 81% of the original data."
   ]
  },
  {
   "cell_type": "code",
   "execution_count": 17,
   "metadata": {},
   "outputs": [
    {
     "data": {
      "text/html": [
       "<div>\n",
       "<style>\n",
       "    .dataframe thead tr:only-child th {\n",
       "        text-align: right;\n",
       "    }\n",
       "\n",
       "    .dataframe thead th {\n",
       "        text-align: left;\n",
       "    }\n",
       "\n",
       "    .dataframe tbody tr th {\n",
       "        vertical-align: top;\n",
       "    }\n",
       "</style>\n",
       "<table border=\"1\" class=\"dataframe\">\n",
       "  <thead>\n",
       "    <tr style=\"text-align: right;\">\n",
       "      <th>fold</th>\n",
       "      <th>1</th>\n",
       "      <th>2</th>\n",
       "      <th>3</th>\n",
       "      <th>4</th>\n",
       "      <th>5</th>\n",
       "      <th>6</th>\n",
       "      <th>7</th>\n",
       "      <th>8</th>\n",
       "      <th>9</th>\n",
       "      <th>10</th>\n",
       "    </tr>\n",
       "    <tr>\n",
       "      <th>class</th>\n",
       "      <th></th>\n",
       "      <th></th>\n",
       "      <th></th>\n",
       "      <th></th>\n",
       "      <th></th>\n",
       "      <th></th>\n",
       "      <th></th>\n",
       "      <th></th>\n",
       "      <th></th>\n",
       "      <th></th>\n",
       "    </tr>\n",
       "  </thead>\n",
       "  <tbody>\n",
       "    <tr>\n",
       "      <th>air_conditioner</th>\n",
       "      <td>99</td>\n",
       "      <td>99</td>\n",
       "      <td>100</td>\n",
       "      <td>100</td>\n",
       "      <td>99</td>\n",
       "      <td>100</td>\n",
       "      <td>100</td>\n",
       "      <td>100</td>\n",
       "      <td>100</td>\n",
       "      <td>100</td>\n",
       "    </tr>\n",
       "    <tr>\n",
       "      <th>children_playing</th>\n",
       "      <td>97</td>\n",
       "      <td>98</td>\n",
       "      <td>98</td>\n",
       "      <td>97</td>\n",
       "      <td>97</td>\n",
       "      <td>98</td>\n",
       "      <td>98</td>\n",
       "      <td>99</td>\n",
       "      <td>96</td>\n",
       "      <td>98</td>\n",
       "    </tr>\n",
       "    <tr>\n",
       "      <th>dog_bark</th>\n",
       "      <td>67</td>\n",
       "      <td>64</td>\n",
       "      <td>72</td>\n",
       "      <td>64</td>\n",
       "      <td>68</td>\n",
       "      <td>63</td>\n",
       "      <td>77</td>\n",
       "      <td>66</td>\n",
       "      <td>66</td>\n",
       "      <td>68</td>\n",
       "    </tr>\n",
       "    <tr>\n",
       "      <th>drilling</th>\n",
       "      <td>82</td>\n",
       "      <td>67</td>\n",
       "      <td>88</td>\n",
       "      <td>90</td>\n",
       "      <td>64</td>\n",
       "      <td>83</td>\n",
       "      <td>97</td>\n",
       "      <td>72</td>\n",
       "      <td>78</td>\n",
       "      <td>84</td>\n",
       "    </tr>\n",
       "    <tr>\n",
       "      <th>engine_idling</th>\n",
       "      <td>94</td>\n",
       "      <td>98</td>\n",
       "      <td>100</td>\n",
       "      <td>104</td>\n",
       "      <td>101</td>\n",
       "      <td>107</td>\n",
       "      <td>102</td>\n",
       "      <td>77</td>\n",
       "      <td>89</td>\n",
       "      <td>89</td>\n",
       "    </tr>\n",
       "    <tr>\n",
       "      <th>jackhammer</th>\n",
       "      <td>104</td>\n",
       "      <td>101</td>\n",
       "      <td>104</td>\n",
       "      <td>58</td>\n",
       "      <td>106</td>\n",
       "      <td>67</td>\n",
       "      <td>54</td>\n",
       "      <td>59</td>\n",
       "      <td>77</td>\n",
       "      <td>73</td>\n",
       "    </tr>\n",
       "    <tr>\n",
       "      <th>siren</th>\n",
       "      <td>86</td>\n",
       "      <td>91</td>\n",
       "      <td>118</td>\n",
       "      <td>158</td>\n",
       "      <td>64</td>\n",
       "      <td>73</td>\n",
       "      <td>72</td>\n",
       "      <td>79</td>\n",
       "      <td>79</td>\n",
       "      <td>77</td>\n",
       "    </tr>\n",
       "    <tr>\n",
       "      <th>street_music</th>\n",
       "      <td>100</td>\n",
       "      <td>100</td>\n",
       "      <td>100</td>\n",
       "      <td>100</td>\n",
       "      <td>100</td>\n",
       "      <td>100</td>\n",
       "      <td>100</td>\n",
       "      <td>100</td>\n",
       "      <td>100</td>\n",
       "      <td>100</td>\n",
       "    </tr>\n",
       "  </tbody>\n",
       "</table>\n",
       "</div>"
      ],
      "text/plain": [
       "fold               1    2    3    4    5    6    7    8    9    10\n",
       "class                                                             \n",
       "air_conditioner    99   99  100  100   99  100  100  100  100  100\n",
       "children_playing   97   98   98   97   97   98   98   99   96   98\n",
       "dog_bark           67   64   72   64   68   63   77   66   66   68\n",
       "drilling           82   67   88   90   64   83   97   72   78   84\n",
       "engine_idling      94   98  100  104  101  107  102   77   89   89\n",
       "jackhammer        104  101  104   58  106   67   54   59   77   73\n",
       "siren              86   91  118  158   64   73   72   79   79   77\n",
       "street_music      100  100  100  100  100  100  100  100  100  100"
      ]
     },
     "execution_count": 17,
     "metadata": {},
     "output_type": "execute_result"
    }
   ],
   "source": [
    "df_metadata_filtered.groupby(['class','fold'])['fold'].count().unstack()"
   ]
  },
  {
   "cell_type": "markdown",
   "metadata": {},
   "source": [
    "###  Are all slice_file_name obs unique?"
   ]
  },
  {
   "cell_type": "code",
   "execution_count": 18,
   "metadata": {},
   "outputs": [
    {
     "name": "stdout",
     "output_type": "stream",
     "text": [
      "1 ; 1\n"
     ]
    }
   ],
   "source": [
    "print(df_metadata.slice_file_name.value_counts().max(),\n",
    "      ';',\n",
    "      df_metadata_filtered.slice_file_name.value_counts().max())"
   ]
  },
  {
   "cell_type": "markdown",
   "metadata": {},
   "source": [
    "Yes, all observations of slice_file_name are unique."
   ]
  },
  {
   "cell_type": "markdown",
   "metadata": {},
   "source": [
    "### One-hot encode the target variable: classID"
   ]
  },
  {
   "cell_type": "markdown",
   "metadata": {},
   "source": [
    "    #pd.get_dummies(data, prefix=None, prefix_sep='_', dummy_na=False, columns=None, sparse=False, drop_first=False)[source]\n",
    "\n",
    "    df_interim = pd.get_dummies(df_metadata_filtered, \n",
    "                                prefix='y', \n",
    "                                prefix_sep='_',\n",
    "                                columns=['classID'], \n",
    "                                drop_first=False)\n",
    "\n",
    "    df_interim.head()"
   ]
  },
  {
   "cell_type": "markdown",
   "metadata": {},
   "source": [
    "### Drop unneeded columns and rearrange columns"
   ]
  },
  {
   "cell_type": "code",
   "execution_count": 19,
   "metadata": {},
   "outputs": [
    {
     "data": {
      "text/html": [
       "<div>\n",
       "<style>\n",
       "    .dataframe thead tr:only-child th {\n",
       "        text-align: right;\n",
       "    }\n",
       "\n",
       "    .dataframe thead th {\n",
       "        text-align: left;\n",
       "    }\n",
       "\n",
       "    .dataframe tbody tr th {\n",
       "        vertical-align: top;\n",
       "    }\n",
       "</style>\n",
       "<table border=\"1\" class=\"dataframe\">\n",
       "  <thead>\n",
       "    <tr style=\"text-align: right;\">\n",
       "      <th></th>\n",
       "      <th>classID</th>\n",
       "      <th>slice_file_name</th>\n",
       "      <th>fold</th>\n",
       "    </tr>\n",
       "  </thead>\n",
       "  <tbody>\n",
       "    <tr>\n",
       "      <th>0</th>\n",
       "      <td>2</td>\n",
       "      <td>100263-2-0-117.wav</td>\n",
       "      <td>5</td>\n",
       "    </tr>\n",
       "    <tr>\n",
       "      <th>1</th>\n",
       "      <td>2</td>\n",
       "      <td>100263-2-0-121.wav</td>\n",
       "      <td>5</td>\n",
       "    </tr>\n",
       "    <tr>\n",
       "      <th>2</th>\n",
       "      <td>2</td>\n",
       "      <td>100263-2-0-126.wav</td>\n",
       "      <td>5</td>\n",
       "    </tr>\n",
       "    <tr>\n",
       "      <th>3</th>\n",
       "      <td>2</td>\n",
       "      <td>100263-2-0-137.wav</td>\n",
       "      <td>5</td>\n",
       "    </tr>\n",
       "    <tr>\n",
       "      <th>4</th>\n",
       "      <td>2</td>\n",
       "      <td>100263-2-0-143.wav</td>\n",
       "      <td>5</td>\n",
       "    </tr>\n",
       "  </tbody>\n",
       "</table>\n",
       "</div>"
      ],
      "text/plain": [
       "   classID     slice_file_name  fold\n",
       "0        2  100263-2-0-117.wav     5\n",
       "1        2  100263-2-0-121.wav     5\n",
       "2        2  100263-2-0-126.wav     5\n",
       "3        2  100263-2-0-137.wav     5\n",
       "4        2  100263-2-0-143.wav     5"
      ]
     },
     "execution_count": 19,
     "metadata": {},
     "output_type": "execute_result"
    }
   ],
   "source": [
    "df_interim = df_metadata_filtered[['classID',\n",
    "                                   'slice_file_name',\n",
    "                                   'fold']]\n",
    "    \n",
    "df_interim.head()"
   ]
  },
  {
   "cell_type": "markdown",
   "metadata": {},
   "source": [
    "### Sort and reindex the DataFrame"
   ]
  },
  {
   "cell_type": "code",
   "execution_count": 20,
   "metadata": {
    "collapsed": true
   },
   "outputs": [],
   "source": [
    "df_interim = df_interim.sort_values(['fold', 'slice_file_name'])"
   ]
  },
  {
   "cell_type": "code",
   "execution_count": 21,
   "metadata": {
    "collapsed": true
   },
   "outputs": [],
   "source": [
    "df_interim.reset_index(drop=True, inplace=True)"
   ]
  },
  {
   "cell_type": "code",
   "execution_count": 22,
   "metadata": {},
   "outputs": [
    {
     "data": {
      "text/html": [
       "<div>\n",
       "<style>\n",
       "    .dataframe thead tr:only-child th {\n",
       "        text-align: right;\n",
       "    }\n",
       "\n",
       "    .dataframe thead th {\n",
       "        text-align: left;\n",
       "    }\n",
       "\n",
       "    .dataframe tbody tr th {\n",
       "        vertical-align: top;\n",
       "    }\n",
       "</style>\n",
       "<table border=\"1\" class=\"dataframe\">\n",
       "  <thead>\n",
       "    <tr style=\"text-align: right;\">\n",
       "      <th></th>\n",
       "      <th>classID</th>\n",
       "      <th>slice_file_name</th>\n",
       "      <th>fold</th>\n",
       "    </tr>\n",
       "  </thead>\n",
       "  <tbody>\n",
       "    <tr>\n",
       "      <th>0</th>\n",
       "      <td>3</td>\n",
       "      <td>101415-3-0-2.wav</td>\n",
       "      <td>1</td>\n",
       "    </tr>\n",
       "    <tr>\n",
       "      <th>1</th>\n",
       "      <td>3</td>\n",
       "      <td>101415-3-0-3.wav</td>\n",
       "      <td>1</td>\n",
       "    </tr>\n",
       "    <tr>\n",
       "      <th>2</th>\n",
       "      <td>3</td>\n",
       "      <td>101415-3-0-8.wav</td>\n",
       "      <td>1</td>\n",
       "    </tr>\n",
       "    <tr>\n",
       "      <th>3</th>\n",
       "      <td>3</td>\n",
       "      <td>102842-3-0-1.wav</td>\n",
       "      <td>1</td>\n",
       "    </tr>\n",
       "    <tr>\n",
       "      <th>4</th>\n",
       "      <td>3</td>\n",
       "      <td>102842-3-1-0.wav</td>\n",
       "      <td>1</td>\n",
       "    </tr>\n",
       "  </tbody>\n",
       "</table>\n",
       "</div>"
      ],
      "text/plain": [
       "   classID   slice_file_name  fold\n",
       "0        3  101415-3-0-2.wav     1\n",
       "1        3  101415-3-0-3.wav     1\n",
       "2        3  101415-3-0-8.wav     1\n",
       "3        3  102842-3-0-1.wav     1\n",
       "4        3  102842-3-1-0.wav     1"
      ]
     },
     "execution_count": 22,
     "metadata": {},
     "output_type": "execute_result"
    }
   ],
   "source": [
    "df_interim.head()"
   ]
  },
  {
   "cell_type": "markdown",
   "metadata": {},
   "source": [
    "### Create a key table for matching 'classID' with 'class'"
   ]
  },
  {
   "cell_type": "code",
   "execution_count": 23,
   "metadata": {},
   "outputs": [
    {
     "data": {
      "text/html": [
       "<div>\n",
       "<style>\n",
       "    .dataframe thead tr:only-child th {\n",
       "        text-align: right;\n",
       "    }\n",
       "\n",
       "    .dataframe thead th {\n",
       "        text-align: left;\n",
       "    }\n",
       "\n",
       "    .dataframe tbody tr th {\n",
       "        vertical-align: top;\n",
       "    }\n",
       "</style>\n",
       "<table border=\"1\" class=\"dataframe\">\n",
       "  <thead>\n",
       "    <tr style=\"text-align: right;\">\n",
       "      <th>classID</th>\n",
       "      <th>0</th>\n",
       "      <th>1</th>\n",
       "      <th>2</th>\n",
       "      <th>3</th>\n",
       "      <th>4</th>\n",
       "      <th>5</th>\n",
       "      <th>6</th>\n",
       "      <th>7</th>\n",
       "      <th>8</th>\n",
       "      <th>9</th>\n",
       "    </tr>\n",
       "    <tr>\n",
       "      <th>class</th>\n",
       "      <th></th>\n",
       "      <th></th>\n",
       "      <th></th>\n",
       "      <th></th>\n",
       "      <th></th>\n",
       "      <th></th>\n",
       "      <th></th>\n",
       "      <th></th>\n",
       "      <th></th>\n",
       "      <th></th>\n",
       "    </tr>\n",
       "  </thead>\n",
       "  <tbody>\n",
       "    <tr>\n",
       "      <th>air_conditioner</th>\n",
       "      <td>1000.0</td>\n",
       "      <td>NaN</td>\n",
       "      <td>NaN</td>\n",
       "      <td>NaN</td>\n",
       "      <td>NaN</td>\n",
       "      <td>NaN</td>\n",
       "      <td>NaN</td>\n",
       "      <td>NaN</td>\n",
       "      <td>NaN</td>\n",
       "      <td>NaN</td>\n",
       "    </tr>\n",
       "    <tr>\n",
       "      <th>car_horn</th>\n",
       "      <td>NaN</td>\n",
       "      <td>429.0</td>\n",
       "      <td>NaN</td>\n",
       "      <td>NaN</td>\n",
       "      <td>NaN</td>\n",
       "      <td>NaN</td>\n",
       "      <td>NaN</td>\n",
       "      <td>NaN</td>\n",
       "      <td>NaN</td>\n",
       "      <td>NaN</td>\n",
       "    </tr>\n",
       "    <tr>\n",
       "      <th>children_playing</th>\n",
       "      <td>NaN</td>\n",
       "      <td>NaN</td>\n",
       "      <td>1000.0</td>\n",
       "      <td>NaN</td>\n",
       "      <td>NaN</td>\n",
       "      <td>NaN</td>\n",
       "      <td>NaN</td>\n",
       "      <td>NaN</td>\n",
       "      <td>NaN</td>\n",
       "      <td>NaN</td>\n",
       "    </tr>\n",
       "    <tr>\n",
       "      <th>dog_bark</th>\n",
       "      <td>NaN</td>\n",
       "      <td>NaN</td>\n",
       "      <td>NaN</td>\n",
       "      <td>1000.0</td>\n",
       "      <td>NaN</td>\n",
       "      <td>NaN</td>\n",
       "      <td>NaN</td>\n",
       "      <td>NaN</td>\n",
       "      <td>NaN</td>\n",
       "      <td>NaN</td>\n",
       "    </tr>\n",
       "    <tr>\n",
       "      <th>drilling</th>\n",
       "      <td>NaN</td>\n",
       "      <td>NaN</td>\n",
       "      <td>NaN</td>\n",
       "      <td>NaN</td>\n",
       "      <td>1000.0</td>\n",
       "      <td>NaN</td>\n",
       "      <td>NaN</td>\n",
       "      <td>NaN</td>\n",
       "      <td>NaN</td>\n",
       "      <td>NaN</td>\n",
       "    </tr>\n",
       "    <tr>\n",
       "      <th>engine_idling</th>\n",
       "      <td>NaN</td>\n",
       "      <td>NaN</td>\n",
       "      <td>NaN</td>\n",
       "      <td>NaN</td>\n",
       "      <td>NaN</td>\n",
       "      <td>1000.0</td>\n",
       "      <td>NaN</td>\n",
       "      <td>NaN</td>\n",
       "      <td>NaN</td>\n",
       "      <td>NaN</td>\n",
       "    </tr>\n",
       "    <tr>\n",
       "      <th>gun_shot</th>\n",
       "      <td>NaN</td>\n",
       "      <td>NaN</td>\n",
       "      <td>NaN</td>\n",
       "      <td>NaN</td>\n",
       "      <td>NaN</td>\n",
       "      <td>NaN</td>\n",
       "      <td>374.0</td>\n",
       "      <td>NaN</td>\n",
       "      <td>NaN</td>\n",
       "      <td>NaN</td>\n",
       "    </tr>\n",
       "    <tr>\n",
       "      <th>jackhammer</th>\n",
       "      <td>NaN</td>\n",
       "      <td>NaN</td>\n",
       "      <td>NaN</td>\n",
       "      <td>NaN</td>\n",
       "      <td>NaN</td>\n",
       "      <td>NaN</td>\n",
       "      <td>NaN</td>\n",
       "      <td>1000.0</td>\n",
       "      <td>NaN</td>\n",
       "      <td>NaN</td>\n",
       "    </tr>\n",
       "    <tr>\n",
       "      <th>siren</th>\n",
       "      <td>NaN</td>\n",
       "      <td>NaN</td>\n",
       "      <td>NaN</td>\n",
       "      <td>NaN</td>\n",
       "      <td>NaN</td>\n",
       "      <td>NaN</td>\n",
       "      <td>NaN</td>\n",
       "      <td>NaN</td>\n",
       "      <td>929.0</td>\n",
       "      <td>NaN</td>\n",
       "    </tr>\n",
       "    <tr>\n",
       "      <th>street_music</th>\n",
       "      <td>NaN</td>\n",
       "      <td>NaN</td>\n",
       "      <td>NaN</td>\n",
       "      <td>NaN</td>\n",
       "      <td>NaN</td>\n",
       "      <td>NaN</td>\n",
       "      <td>NaN</td>\n",
       "      <td>NaN</td>\n",
       "      <td>NaN</td>\n",
       "      <td>1000.0</td>\n",
       "    </tr>\n",
       "  </tbody>\n",
       "</table>\n",
       "</div>"
      ],
      "text/plain": [
       "classID                0      1       2       3       4       5      6  \\\n",
       "class                                                                    \n",
       "air_conditioner   1000.0    NaN     NaN     NaN     NaN     NaN    NaN   \n",
       "car_horn             NaN  429.0     NaN     NaN     NaN     NaN    NaN   \n",
       "children_playing     NaN    NaN  1000.0     NaN     NaN     NaN    NaN   \n",
       "dog_bark             NaN    NaN     NaN  1000.0     NaN     NaN    NaN   \n",
       "drilling             NaN    NaN     NaN     NaN  1000.0     NaN    NaN   \n",
       "engine_idling        NaN    NaN     NaN     NaN     NaN  1000.0    NaN   \n",
       "gun_shot             NaN    NaN     NaN     NaN     NaN     NaN  374.0   \n",
       "jackhammer           NaN    NaN     NaN     NaN     NaN     NaN    NaN   \n",
       "siren                NaN    NaN     NaN     NaN     NaN     NaN    NaN   \n",
       "street_music         NaN    NaN     NaN     NaN     NaN     NaN    NaN   \n",
       "\n",
       "classID                7      8       9  \n",
       "class                                    \n",
       "air_conditioner      NaN    NaN     NaN  \n",
       "car_horn             NaN    NaN     NaN  \n",
       "children_playing     NaN    NaN     NaN  \n",
       "dog_bark             NaN    NaN     NaN  \n",
       "drilling             NaN    NaN     NaN  \n",
       "engine_idling        NaN    NaN     NaN  \n",
       "gun_shot             NaN    NaN     NaN  \n",
       "jackhammer        1000.0    NaN     NaN  \n",
       "siren                NaN  929.0     NaN  \n",
       "street_music         NaN    NaN  1000.0  "
      ]
     },
     "execution_count": 23,
     "metadata": {},
     "output_type": "execute_result"
    }
   ],
   "source": [
    "df_temp = df_metadata.groupby(['class','classID'])['classID'].count().unstack()\n",
    "df_temp"
   ]
  },
  {
   "cell_type": "code",
   "execution_count": 24,
   "metadata": {},
   "outputs": [
    {
     "data": {
      "text/html": [
       "<div>\n",
       "<style>\n",
       "    .dataframe thead tr:only-child th {\n",
       "        text-align: right;\n",
       "    }\n",
       "\n",
       "    .dataframe thead th {\n",
       "        text-align: left;\n",
       "    }\n",
       "\n",
       "    .dataframe tbody tr th {\n",
       "        vertical-align: top;\n",
       "    }\n",
       "</style>\n",
       "<table border=\"1\" class=\"dataframe\">\n",
       "  <thead>\n",
       "    <tr style=\"text-align: right;\">\n",
       "      <th></th>\n",
       "      <th>class</th>\n",
       "      <th>classID</th>\n",
       "    </tr>\n",
       "  </thead>\n",
       "  <tbody>\n",
       "    <tr>\n",
       "      <th>0</th>\n",
       "      <td>air_conditioner</td>\n",
       "      <td>0</td>\n",
       "    </tr>\n",
       "    <tr>\n",
       "      <th>1</th>\n",
       "      <td>car_horn</td>\n",
       "      <td>1</td>\n",
       "    </tr>\n",
       "    <tr>\n",
       "      <th>2</th>\n",
       "      <td>children_playing</td>\n",
       "      <td>2</td>\n",
       "    </tr>\n",
       "    <tr>\n",
       "      <th>3</th>\n",
       "      <td>dog_bark</td>\n",
       "      <td>3</td>\n",
       "    </tr>\n",
       "    <tr>\n",
       "      <th>4</th>\n",
       "      <td>drilling</td>\n",
       "      <td>4</td>\n",
       "    </tr>\n",
       "    <tr>\n",
       "      <th>5</th>\n",
       "      <td>engine_idling</td>\n",
       "      <td>5</td>\n",
       "    </tr>\n",
       "    <tr>\n",
       "      <th>6</th>\n",
       "      <td>gun_shot</td>\n",
       "      <td>6</td>\n",
       "    </tr>\n",
       "    <tr>\n",
       "      <th>7</th>\n",
       "      <td>jackhammer</td>\n",
       "      <td>7</td>\n",
       "    </tr>\n",
       "    <tr>\n",
       "      <th>8</th>\n",
       "      <td>siren</td>\n",
       "      <td>8</td>\n",
       "    </tr>\n",
       "    <tr>\n",
       "      <th>9</th>\n",
       "      <td>street_music</td>\n",
       "      <td>9</td>\n",
       "    </tr>\n",
       "  </tbody>\n",
       "</table>\n",
       "</div>"
      ],
      "text/plain": [
       "              class  classID\n",
       "0   air_conditioner        0\n",
       "1          car_horn        1\n",
       "2  children_playing        2\n",
       "3          dog_bark        3\n",
       "4          drilling        4\n",
       "5     engine_idling        5\n",
       "6          gun_shot        6\n",
       "7        jackhammer        7\n",
       "8             siren        8\n",
       "9      street_music        9"
      ]
     },
     "execution_count": 24,
     "metadata": {},
     "output_type": "execute_result"
    }
   ],
   "source": [
    "classID_list =list(df_temp.columns)\n",
    "class_list =  list(df_temp.index)\n",
    "\n",
    "df_class_key = pd.DataFrame({'class': class_list, \n",
    "                             'classID': classID_list})\n",
    "df_class_key"
   ]
  },
  {
   "cell_type": "markdown",
   "metadata": {},
   "source": [
    "## Define train and test set data."
   ]
  },
  {
   "cell_type": "markdown",
   "metadata": {},
   "source": [
    "Define folds 1 through 8 to be train data.  Define folds 9 and 10 to be test data.  "
   ]
  },
  {
   "cell_type": "code",
   "execution_count": 25,
   "metadata": {
    "collapsed": true
   },
   "outputs": [],
   "source": [
    "df_interim['test_data'] = df_interim.fold >= 9"
   ]
  },
  {
   "cell_type": "code",
   "execution_count": 26,
   "metadata": {},
   "outputs": [
    {
     "data": {
      "text/html": [
       "<div>\n",
       "<style>\n",
       "    .dataframe thead tr:only-child th {\n",
       "        text-align: right;\n",
       "    }\n",
       "\n",
       "    .dataframe thead th {\n",
       "        text-align: left;\n",
       "    }\n",
       "\n",
       "    .dataframe tbody tr th {\n",
       "        vertical-align: top;\n",
       "    }\n",
       "</style>\n",
       "<table border=\"1\" class=\"dataframe\">\n",
       "  <thead>\n",
       "    <tr style=\"text-align: right;\">\n",
       "      <th></th>\n",
       "      <th>classID</th>\n",
       "      <th>slice_file_name</th>\n",
       "      <th>fold</th>\n",
       "      <th>test_data</th>\n",
       "    </tr>\n",
       "  </thead>\n",
       "  <tbody>\n",
       "    <tr>\n",
       "      <th>0</th>\n",
       "      <td>3</td>\n",
       "      <td>101415-3-0-2.wav</td>\n",
       "      <td>1</td>\n",
       "      <td>False</td>\n",
       "    </tr>\n",
       "    <tr>\n",
       "      <th>1</th>\n",
       "      <td>3</td>\n",
       "      <td>101415-3-0-3.wav</td>\n",
       "      <td>1</td>\n",
       "      <td>False</td>\n",
       "    </tr>\n",
       "    <tr>\n",
       "      <th>2</th>\n",
       "      <td>3</td>\n",
       "      <td>101415-3-0-8.wav</td>\n",
       "      <td>1</td>\n",
       "      <td>False</td>\n",
       "    </tr>\n",
       "    <tr>\n",
       "      <th>3</th>\n",
       "      <td>3</td>\n",
       "      <td>102842-3-0-1.wav</td>\n",
       "      <td>1</td>\n",
       "      <td>False</td>\n",
       "    </tr>\n",
       "    <tr>\n",
       "      <th>4</th>\n",
       "      <td>3</td>\n",
       "      <td>102842-3-1-0.wav</td>\n",
       "      <td>1</td>\n",
       "      <td>False</td>\n",
       "    </tr>\n",
       "  </tbody>\n",
       "</table>\n",
       "</div>"
      ],
      "text/plain": [
       "   classID   slice_file_name  fold  test_data\n",
       "0        3  101415-3-0-2.wav     1      False\n",
       "1        3  101415-3-0-3.wav     1      False\n",
       "2        3  101415-3-0-8.wav     1      False\n",
       "3        3  102842-3-0-1.wav     1      False\n",
       "4        3  102842-3-1-0.wav     1      False"
      ]
     },
     "execution_count": 26,
     "metadata": {},
     "output_type": "execute_result"
    }
   ],
   "source": [
    "df_interim.head()"
   ]
  },
  {
   "cell_type": "code",
   "execution_count": 27,
   "metadata": {},
   "outputs": [
    {
     "data": {
      "text/plain": [
       "1374"
      ]
     },
     "execution_count": 27,
     "metadata": {},
     "output_type": "execute_result"
    }
   ],
   "source": [
    "np.sum(df_interim.test_data == True)"
   ]
  },
  {
   "cell_type": "code",
   "execution_count": 28,
   "metadata": {},
   "outputs": [
    {
     "data": {
      "text/plain": [
       "5740"
      ]
     },
     "execution_count": 28,
     "metadata": {},
     "output_type": "execute_result"
    }
   ],
   "source": [
    "np.sum(df_interim.test_data == False)"
   ]
  },
  {
   "cell_type": "code",
   "execution_count": 29,
   "metadata": {},
   "outputs": [
    {
     "data": {
      "text/plain": [
       "0.80685971324149564"
      ]
     },
     "execution_count": 29,
     "metadata": {},
     "output_type": "execute_result"
    }
   ],
   "source": [
    "np.sum(df_interim.test_data == False) / len(df_interim)"
   ]
  },
  {
   "cell_type": "code",
   "execution_count": 30,
   "metadata": {},
   "outputs": [
    {
     "data": {
      "text/html": [
       "<div>\n",
       "<style>\n",
       "    .dataframe thead tr:only-child th {\n",
       "        text-align: right;\n",
       "    }\n",
       "\n",
       "    .dataframe thead th {\n",
       "        text-align: left;\n",
       "    }\n",
       "\n",
       "    .dataframe tbody tr th {\n",
       "        vertical-align: top;\n",
       "    }\n",
       "</style>\n",
       "<table border=\"1\" class=\"dataframe\">\n",
       "  <thead>\n",
       "    <tr style=\"text-align: right;\">\n",
       "      <th></th>\n",
       "      <th>classID</th>\n",
       "      <th>slice_file_name</th>\n",
       "      <th>fold</th>\n",
       "      <th>test_data</th>\n",
       "    </tr>\n",
       "  </thead>\n",
       "  <tbody>\n",
       "    <tr>\n",
       "      <th>5740</th>\n",
       "      <td>0</td>\n",
       "      <td>101729-0-0-1.wav</td>\n",
       "      <td>9</td>\n",
       "      <td>True</td>\n",
       "    </tr>\n",
       "    <tr>\n",
       "      <th>5741</th>\n",
       "      <td>0</td>\n",
       "      <td>101729-0-0-11.wav</td>\n",
       "      <td>9</td>\n",
       "      <td>True</td>\n",
       "    </tr>\n",
       "    <tr>\n",
       "      <th>5742</th>\n",
       "      <td>0</td>\n",
       "      <td>101729-0-0-12.wav</td>\n",
       "      <td>9</td>\n",
       "      <td>True</td>\n",
       "    </tr>\n",
       "    <tr>\n",
       "      <th>5743</th>\n",
       "      <td>0</td>\n",
       "      <td>101729-0-0-13.wav</td>\n",
       "      <td>9</td>\n",
       "      <td>True</td>\n",
       "    </tr>\n",
       "    <tr>\n",
       "      <th>5744</th>\n",
       "      <td>0</td>\n",
       "      <td>101729-0-0-14.wav</td>\n",
       "      <td>9</td>\n",
       "      <td>True</td>\n",
       "    </tr>\n",
       "  </tbody>\n",
       "</table>\n",
       "</div>"
      ],
      "text/plain": [
       "      classID    slice_file_name  fold  test_data\n",
       "5740        0   101729-0-0-1.wav     9       True\n",
       "5741        0  101729-0-0-11.wav     9       True\n",
       "5742        0  101729-0-0-12.wav     9       True\n",
       "5743        0  101729-0-0-13.wav     9       True\n",
       "5744        0  101729-0-0-14.wav     9       True"
      ]
     },
     "execution_count": 30,
     "metadata": {},
     "output_type": "execute_result"
    }
   ],
   "source": [
    "df_test = df_interim[df_interim.test_data == True]\n",
    "df_test.head()"
   ]
  },
  {
   "cell_type": "code",
   "execution_count": 31,
   "metadata": {},
   "outputs": [
    {
     "data": {
      "text/html": [
       "<div>\n",
       "<style>\n",
       "    .dataframe thead tr:only-child th {\n",
       "        text-align: right;\n",
       "    }\n",
       "\n",
       "    .dataframe thead th {\n",
       "        text-align: left;\n",
       "    }\n",
       "\n",
       "    .dataframe tbody tr th {\n",
       "        vertical-align: top;\n",
       "    }\n",
       "</style>\n",
       "<table border=\"1\" class=\"dataframe\">\n",
       "  <thead>\n",
       "    <tr style=\"text-align: right;\">\n",
       "      <th></th>\n",
       "      <th>classID</th>\n",
       "      <th>slice_file_name</th>\n",
       "      <th>fold</th>\n",
       "      <th>test_data</th>\n",
       "    </tr>\n",
       "  </thead>\n",
       "  <tbody>\n",
       "    <tr>\n",
       "      <th>0</th>\n",
       "      <td>3</td>\n",
       "      <td>101415-3-0-2.wav</td>\n",
       "      <td>1</td>\n",
       "      <td>False</td>\n",
       "    </tr>\n",
       "    <tr>\n",
       "      <th>1</th>\n",
       "      <td>3</td>\n",
       "      <td>101415-3-0-3.wav</td>\n",
       "      <td>1</td>\n",
       "      <td>False</td>\n",
       "    </tr>\n",
       "    <tr>\n",
       "      <th>2</th>\n",
       "      <td>3</td>\n",
       "      <td>101415-3-0-8.wav</td>\n",
       "      <td>1</td>\n",
       "      <td>False</td>\n",
       "    </tr>\n",
       "    <tr>\n",
       "      <th>3</th>\n",
       "      <td>3</td>\n",
       "      <td>102842-3-0-1.wav</td>\n",
       "      <td>1</td>\n",
       "      <td>False</td>\n",
       "    </tr>\n",
       "    <tr>\n",
       "      <th>4</th>\n",
       "      <td>3</td>\n",
       "      <td>102842-3-1-0.wav</td>\n",
       "      <td>1</td>\n",
       "      <td>False</td>\n",
       "    </tr>\n",
       "  </tbody>\n",
       "</table>\n",
       "</div>"
      ],
      "text/plain": [
       "   classID   slice_file_name  fold  test_data\n",
       "0        3  101415-3-0-2.wav     1      False\n",
       "1        3  101415-3-0-3.wav     1      False\n",
       "2        3  101415-3-0-8.wav     1      False\n",
       "3        3  102842-3-0-1.wav     1      False\n",
       "4        3  102842-3-1-0.wav     1      False"
      ]
     },
     "execution_count": 31,
     "metadata": {},
     "output_type": "execute_result"
    }
   ],
   "source": [
    "df_train = df_interim[df_interim.test_data == False]\n",
    "df_train.head()"
   ]
  },
  {
   "cell_type": "markdown",
   "metadata": {},
   "source": [
    "## Save `df_interim` and `df_class_key` to new csv files."
   ]
  },
  {
   "cell_type": "code",
   "execution_count": 32,
   "metadata": {
    "collapsed": true
   },
   "outputs": [],
   "source": [
    "new_file_name = 'metadata_interim.csv'\n",
    "new_file_path = os.path.join(interim_data_dir,\n",
    "                             new_file_name)\n",
    "df_interim.to_csv(new_file_path)"
   ]
  },
  {
   "cell_type": "code",
   "execution_count": 33,
   "metadata": {
    "collapsed": true
   },
   "outputs": [],
   "source": [
    "new_file_name = 'classID_key.csv'\n",
    "new_file_path = os.path.join(interim_data_dir,\n",
    "                             new_file_name)\n",
    "\n",
    "df_class_key.to_csv(new_file_path)"
   ]
  },
  {
   "cell_type": "code",
   "execution_count": 34,
   "metadata": {
    "collapsed": true
   },
   "outputs": [],
   "source": [
    "new_file_name = 'metadata_train.csv'\n",
    "new_file_path = os.path.join(interim_data_dir,\n",
    "                             new_file_name)\n",
    "df_train.to_csv(new_file_path)"
   ]
  },
  {
   "cell_type": "code",
   "execution_count": 35,
   "metadata": {
    "collapsed": true
   },
   "outputs": [],
   "source": [
    "new_file_name = 'metadata_test.csv'\n",
    "new_file_path = os.path.join(interim_data_dir,\n",
    "                             new_file_name)\n",
    "df_test.to_csv(new_file_path)"
   ]
  },
  {
   "cell_type": "markdown",
   "metadata": {},
   "source": [
    "## Process audio files"
   ]
  },
  {
   "cell_type": "code",
   "execution_count": 36,
   "metadata": {},
   "outputs": [
    {
     "data": {
      "text/html": [
       "<div>\n",
       "<style>\n",
       "    .dataframe thead tr:only-child th {\n",
       "        text-align: right;\n",
       "    }\n",
       "\n",
       "    .dataframe thead th {\n",
       "        text-align: left;\n",
       "    }\n",
       "\n",
       "    .dataframe tbody tr th {\n",
       "        vertical-align: top;\n",
       "    }\n",
       "</style>\n",
       "<table border=\"1\" class=\"dataframe\">\n",
       "  <thead>\n",
       "    <tr style=\"text-align: right;\">\n",
       "      <th></th>\n",
       "      <th>classID</th>\n",
       "      <th>slice_file_name</th>\n",
       "      <th>fold</th>\n",
       "      <th>test_data</th>\n",
       "    </tr>\n",
       "  </thead>\n",
       "  <tbody>\n",
       "    <tr>\n",
       "      <th>0</th>\n",
       "      <td>3</td>\n",
       "      <td>101415-3-0-2.wav</td>\n",
       "      <td>1</td>\n",
       "      <td>False</td>\n",
       "    </tr>\n",
       "    <tr>\n",
       "      <th>1</th>\n",
       "      <td>3</td>\n",
       "      <td>101415-3-0-3.wav</td>\n",
       "      <td>1</td>\n",
       "      <td>False</td>\n",
       "    </tr>\n",
       "    <tr>\n",
       "      <th>2</th>\n",
       "      <td>3</td>\n",
       "      <td>101415-3-0-8.wav</td>\n",
       "      <td>1</td>\n",
       "      <td>False</td>\n",
       "    </tr>\n",
       "    <tr>\n",
       "      <th>3</th>\n",
       "      <td>3</td>\n",
       "      <td>102842-3-0-1.wav</td>\n",
       "      <td>1</td>\n",
       "      <td>False</td>\n",
       "    </tr>\n",
       "    <tr>\n",
       "      <th>4</th>\n",
       "      <td>3</td>\n",
       "      <td>102842-3-1-0.wav</td>\n",
       "      <td>1</td>\n",
       "      <td>False</td>\n",
       "    </tr>\n",
       "  </tbody>\n",
       "</table>\n",
       "</div>"
      ],
      "text/plain": [
       "   classID   slice_file_name  fold  test_data\n",
       "0        3  101415-3-0-2.wav     1      False\n",
       "1        3  101415-3-0-3.wav     1      False\n",
       "2        3  101415-3-0-8.wav     1      False\n",
       "3        3  102842-3-0-1.wav     1      False\n",
       "4        3  102842-3-1-0.wav     1      False"
      ]
     },
     "execution_count": 36,
     "metadata": {},
     "output_type": "execute_result"
    }
   ],
   "source": [
    "df_train.head()"
   ]
  },
  {
   "cell_type": "code",
   "execution_count": 37,
   "metadata": {
    "collapsed": true
   },
   "outputs": [],
   "source": [
    "global_sr = 22050\n",
    "global_n_mels = 96\n",
    "\n",
    "#pitch_shift_list = [None, -4, -3, -2, -1, 1, 2, 3, 4]\n",
    "pitch_shift_list = [None, -4, -2, 2, 4]\n",
    "time_stretch_list = [None, 0.8]"
   ]
  },
  {
   "cell_type": "code",
   "execution_count": 38,
   "metadata": {
    "collapsed": true
   },
   "outputs": [],
   "source": [
    "for index, row in df_train.iterrows():\n",
    "\n",
    "    # Save path to the raw audio files\n",
    "    fold_name = 'fold' + str(row['fold'])\n",
    "    fold_path = os.path.join(raw_audio_path,\n",
    "                             fold_name)\n",
    "    \n",
    "    # Full path to the audio_file\n",
    "    audio_file = row['slice_file_name']\n",
    "    audio_path = os.path.join(fold_path,\n",
    "                              audio_file)\n",
    "        \n",
    "    # Load the .wav audio_file\n",
    "    aud_array, sr = librosa.load(audio_path, sr=global_sr)\n",
    "\n",
    "    \n",
    "    if index >= 1:\n",
    "        break\n",
    "        "
   ]
  },
  {
   "cell_type": "code",
   "execution_count": 39,
   "metadata": {},
   "outputs": [
    {
     "name": "stdout",
     "output_type": "stream",
     "text": [
      "15\n",
      "86,100\n"
     ]
    },
    {
     "data": {
      "image/png": "[encoded data removed]",
      "text/plain": [
       "<matplotlib.figure.Figure at 0x113232da0>"
      ]
     },
     "metadata": {},
     "output_type": "display_data"
    },
    {
     "data": {
      "image/png": "[encoded data removed]",
      "text/plain": [
       "<matplotlib.figure.Figure at 0x112e18da0>"
      ]
     },
     "metadata": {},
     "output_type": "display_data"
    },
    {
     "data": {
      "image/png": "[encoded data removed]",
      "text/plain": [
       "<matplotlib.figure.Figure at 0x1138a9fd0>"
      ]
     },
     "metadata": {},
     "output_type": "display_data"
    },
    {
     "data": {
      "image/png": "[encoded data removed]",
      "text/plain": [
       "<matplotlib.figure.Figure at 0x113585d30>"
      ]
     },
     "metadata": {},
     "output_type": "display_data"
    },
    {
     "data": {
      "image/png": "[encoded data removed]",
      "text/plain": [
       "<matplotlib.figure.Figure at 0x1132d0ba8>"
      ]
     },
     "metadata": {},
     "output_type": "display_data"
    },
    {
     "data": {
      "image/png": "[encoded data removed]",
      "text/plain": [
       "<matplotlib.figure.Figure at 0x1133410b8>"
      ]
     },
     "metadata": {},
     "output_type": "display_data"
    },
    {
     "data": {
      "image/png": "[encoded data removed]",
      "text/plain": [
       "<matplotlib.figure.Figure at 0x1133e8fd0>"
      ]
     },
     "metadata": {},
     "output_type": "display_data"
    },
    {
     "data": {
      "image/png": "[encoded data removed]",
      "text/plain": [
       "<matplotlib.figure.Figure at 0x11346bda0>"
      ]
     },
     "metadata": {},
     "output_type": "display_data"
    },
    {
     "data": {
      "image/png": "[encoded data removed]",
      "text/plain": [
       "<matplotlib.figure.Figure at 0x113444898>"
      ]
     },
     "metadata": {},
     "output_type": "display_data"
    },
    {
     "data": {
      "image/png": "[encoded data removed]",
      "text/plain": [
       "<matplotlib.figure.Figure at 0x1133c77f0>"
      ]
     },
     "metadata": {},
     "output_type": "display_data"
    },
    {
     "data": {
      "image/png": "[encoded data removed]",
      "text/plain": [
       "<matplotlib.figure.Figure at 0x113944828>"
      ]
     },
     "metadata": {},
     "output_type": "display_data"
    },
    {
     "data": {
      "image/png": "[encoded data removed]",
      "text/plain": [
       "<matplotlib.figure.Figure at 0x109075e80>"
      ]
     },
     "metadata": {},
     "output_type": "display_data"
    },
    {
     "data": {
      "image/png": "[encoded data removed]",
      "text/plain": [
       "<matplotlib.figure.Figure at 0x11379dcf8>"
      ]
     },
     "metadata": {},
     "output_type": "display_data"
    },
    {
     "data": {
      "image/png": "[encoded data removed]",
      "text/plain": [
       "<matplotlib.figure.Figure at 0x10916f940>"
      ]
     },
     "metadata": {},
     "output_type": "display_data"
    },
    {
     "data": {
      "image/png": "[encoded data removed]",
      "text/plain": [
       "<matplotlib.figure.Figure at 0x11496da20>"
      ]
     },
     "metadata": {},
     "output_type": "display_data"
    }
   ],
   "source": [
    "count = 0\n",
    "\n",
    "for ps in pitch_shift_list:\n",
    "    for ts in time_stretch_list:\n",
    "\n",
    "        aud_array_aug = aud_array\n",
    "\n",
    "        \n",
    "        # Pitch shift\n",
    "        if ps is not None:\n",
    "            aud_array_aug = librosa.effects.pitch_shift(aud_array_aug, global_sr, n_steps=ps)\n",
    "\n",
    "        # Time stretch\n",
    "        if ts is not None:\n",
    "            aud_array_aug = librosa.effects.time_stretch(aud_array_aug, rate=ts)\n",
    "\n",
    "        # Create spectrogram array\n",
    "        spec_array = librosa.logamplitude(\\\n",
    "                        librosa.feature.melspectrogram(aud_array_aug, \n",
    "                                                       sr=global_sr,\n",
    "                                                       n_mels=global_n_mels),\n",
    "                                          ref_power=1.0)[np.newaxis,:,:,\n",
    "                                                         np.newaxis]\n",
    "        \n",
    "        # Time stretch\n",
    "        if ts is not None:\n",
    "            \n",
    "            spec_array_full = spec_array\n",
    "            \n",
    "            # Left slice            \n",
    "            spec_array = spec_array_full[:,:,:173,:]\n",
    "#            print(spec_array.shape)\n",
    "            \n",
    "            plt.figure()\n",
    "            img = plt.imshow(spec_array[0,:,:,0], cmap='gray')\n",
    "            title = 'ps: ' + str(ps) + '; ts: ' + str(ts) + '; slice: Left'\n",
    "            plt.title(title)            \n",
    "            plt.axis('off')\n",
    "\n",
    "            count += 1\n",
    "            \n",
    "            # Right slice            \n",
    "            spec_array = spec_array_full[:,:,-173:,:]\n",
    "#            print(spec_array.shape)\n",
    "            \n",
    "            plt.figure()\n",
    "            img = plt.imshow(spec_array[0,:,:,0], cmap='gray')\n",
    "            title = 'ps: ' + str(ps) + '; ts: ' + str(ts) + '; slice: Right'\n",
    "            plt.title(title)\n",
    "            plt.axis('off')\n",
    "\n",
    "            count += 1\n",
    "            \n",
    "        else:\n",
    "            \n",
    "            spec_array = spec_array[:,:,:173,:]\n",
    "#            print(spec_array.shape)\n",
    "            \n",
    "            plt.figure()\n",
    "            img = plt.imshow(spec_array[0,:,:,0], cmap='gray')\n",
    "            title = 'ps: ' + str(ps) + '; ts: ' + str(ts) + '; slice: N/A'\n",
    "            plt.title(title)\n",
    "            plt.axis('off')\n",
    "\n",
    "            count += 1\n",
    "            \n",
    "print(count)\n",
    "print('{:,}'.format(count * len(df_train)))"
   ]
  },
  {
   "cell_type": "code",
   "execution_count": 40,
   "metadata": {},
   "outputs": [
    {
     "data": {
      "text/plain": [
       "86100"
      ]
     },
     "execution_count": 40,
     "metadata": {},
     "output_type": "execute_result"
    }
   ],
   "source": [
    "train_len = count * len(df_train)\n",
    "train_len"
   ]
  },
  {
   "cell_type": "code",
   "execution_count": 41,
   "metadata": {},
   "outputs": [
    {
     "data": {
      "text/plain": [
       "1374"
      ]
     },
     "execution_count": 41,
     "metadata": {},
     "output_type": "execute_result"
    }
   ],
   "source": [
    "test_len = len(df_test)\n",
    "test_len"
   ]
  },
  {
   "cell_type": "markdown",
   "metadata": {},
   "source": [
    "### Create an `.hdf5` file to store spectrogram data we will generate from the `.wav` files."
   ]
  },
  {
   "cell_type": "markdown",
   "metadata": {},
   "source": [
    "Determine the size of the dataset"
   ]
  },
  {
   "cell_type": "code",
   "execution_count": 42,
   "metadata": {},
   "outputs": [
    {
     "name": "stdout",
     "output_type": "stream",
     "text": [
      "dset_shape_X_test:\t (1374, 96, 173, 1)\n",
      "dset_shape_y_test:\t (1374, 1)\n",
      "dset_shape_X_train:\t (86100, 96, 173, 1)\n",
      "dset_shape_y_train:\t (86100, 1)\n"
     ]
    }
   ],
   "source": [
    "# Test set\n",
    "dset_shape_X_test = (test_len, 96, 173,  1)\n",
    "dset_shape_y_test = (test_len, 1)\n",
    "print('dset_shape_X_test:\\t', dset_shape_X_test)\n",
    "print('dset_shape_y_test:\\t', dset_shape_y_test)\n",
    "\n",
    "# Train set\n",
    "dset_shape_X_train = (train_len, 96, 173,  1)\n",
    "dset_shape_y_train = (train_len, 1)\n",
    "print('dset_shape_X_train:\\t', dset_shape_X_train)\n",
    "print('dset_shape_y_train:\\t', dset_shape_y_train)"
   ]
  },
  {
   "cell_type": "code",
   "execution_count": 43,
   "metadata": {
    "collapsed": true
   },
   "outputs": [],
   "source": [
    "# Full path for test_hdf5_path\n",
    "test_hdf5_path = os.path.join(spectrogram_arrays_path,\n",
    "                                \"spectrogram_arrays_test.hdf5\")\n",
    "\n",
    "with h5py.File(test_hdf5_path, 'w') as f:\n",
    "    f.create_dataset(\"spectrogram_arrays_X_test\", \n",
    "                     shape=dset_shape_X_test, \n",
    "                     dtype='float32',\n",
    "                     data=np.zeros(dset_shape_X_test, dtype='float32'),\n",
    "                     chunks=(1, 96, 173, 1),\n",
    "                     compression=\"gzip\")\n",
    "    \n",
    "    f.create_dataset(\"spectrogram_arrays_y_test\", \n",
    "                     shape=dset_shape_y_test, \n",
    "                     dtype='int8',\n",
    "                     data=np.zeros(dset_shape_y_test, dtype='int8'),\n",
    "                     compression=\"gzip\")\n",
    "    \n",
    "# Full path for train_hdf5_path\n",
    "train_hdf5_path = os.path.join(spectrogram_arrays_path,\n",
    "                                \"spectrogram_arrays_train.hdf5\")\n",
    "\n",
    "with h5py.File(train_hdf5_path, 'w') as f:\n",
    "    f.create_dataset(\"spectrogram_arrays_X_train\", \n",
    "                     shape=dset_shape_X_train, \n",
    "                     dtype='float32',\n",
    "                     data=np.zeros(dset_shape_X_train, dtype='float32'),\n",
    "                     chunks=(1, 96, 173, 1),\n",
    "                     compression=\"gzip\")\n",
    "    \n",
    "    f.create_dataset(\"spectrogram_arrays_y_train\", \n",
    "                     shape=dset_shape_y_train, \n",
    "                     dtype='int8',\n",
    "                     data=np.zeros(dset_shape_y_train, dtype='int8'),\n",
    "                     compression=\"gzip\")        "
   ]
  },
  {
   "cell_type": "markdown",
   "metadata": {},
   "source": [
    "### Generate data for spectrogram_arrays_X_test & spectrogram_arrays_y_test"
   ]
  },
  {
   "cell_type": "code",
   "execution_count": 44,
   "metadata": {
    "collapsed": true
   },
   "outputs": [],
   "source": [
    "count = 0\n",
    "\n",
    "for index, row in df_test.iterrows():\n",
    "\n",
    "    # Save path to the raw audio files\n",
    "    fold_name = 'fold' + str(row['fold'])\n",
    "    fold_path = os.path.join(raw_audio_path,\n",
    "                         fold_name)\n",
    "    \n",
    "    # Full path to the audio_file\n",
    "    audio_file = row['slice_file_name']\n",
    "    audio_path = os.path.join(fold_path,\n",
    "                              audio_file)\n",
    "        \n",
    "    # Load the .wav audio_file\n",
    "    aud_array, sr = librosa.load(audio_path, sr=global_sr)\n",
    "\n",
    "    # Create spectrogram array\n",
    "    spec_array = librosa.logamplitude(\\\n",
    "                    librosa.feature.melspectrogram(aud_array, \n",
    "                                                   sr=global_sr,\n",
    "                                                   n_mels=global_n_mels),\n",
    "                                      ref_power=1.0)[np.newaxis,:,:,\n",
    "                                                     np.newaxis]\n",
    "    \n",
    "    # Convert spectrogram array from dtype float64 to float32\n",
    "    spec_array = spec_array.astype('float32')\n",
    "\n",
    "    # Write to the hdf5 file\n",
    "    with h5py.File(test_hdf5_path, \"r+\") as f:\n",
    "        # X_train\n",
    "        dset = f['spectrogram_arrays_X_test']    \n",
    "        # limit tensor height to 173 (there were a few tensors with 174)\n",
    "        dset[count,:,:,:] = spec_array[:,:,:173,:]\n",
    "        # y_train\n",
    "        dset = f['spectrogram_arrays_y_test']    \n",
    "        dset[count,:] = row['classID']\n",
    "\n",
    "        count += 1        "
   ]
  },
  {
   "cell_type": "markdown",
   "metadata": {},
   "source": [
    "### Generate data for spectrogram_arrays_X_train & spectrogram_arrays_y_train"
   ]
  },
  {
   "cell_type": "code",
   "execution_count": 45,
   "metadata": {
    "collapsed": true
   },
   "outputs": [],
   "source": [
    "count = 0\n",
    "\n",
    "for index, row in df_train.iterrows():\n",
    "    \n",
    "    # Save path to the raw audio files\n",
    "    fold_name = 'fold' + str(row['fold'])\n",
    "    fold_path = os.path.join(raw_audio_path,\n",
    "                         fold_name)\n",
    "    \n",
    "    # Full path to the audio_file\n",
    "    audio_file = row['slice_file_name']\n",
    "    audio_path = os.path.join(fold_path,\n",
    "                              audio_file)\n",
    "        \n",
    "    # Load the .wav audio_file\n",
    "    aud_array, sr = librosa.load(audio_path, sr=global_sr)\n",
    "\n",
    "    for ps in pitch_shift_list:\n",
    "        for ts in time_stretch_list:\n",
    "\n",
    "            aud_array_aug = aud_array\n",
    "\n",
    "            # Pitch shift\n",
    "            if ps is not None:\n",
    "                aud_array_aug = librosa.effects.pitch_shift(aud_array_aug, global_sr, n_steps=ps)\n",
    "\n",
    "            # Time stretch\n",
    "            if ts is not None:\n",
    "                aud_array_aug = librosa.effects.time_stretch(aud_array_aug, rate=ts)\n",
    "\n",
    "            # Create spectrogram array\n",
    "            spec_array = librosa.logamplitude(\\\n",
    "                            librosa.feature.melspectrogram(aud_array_aug, \n",
    "                                                           sr=global_sr,\n",
    "                                                           n_mels=global_n_mels),\n",
    "                                              ref_power=1.0)[np.newaxis,:,:,\n",
    "                                                             np.newaxis]\n",
    "\n",
    "            # Time stretch\n",
    "            if ts is not None:\n",
    "\n",
    "                spec_array_full = spec_array\n",
    "\n",
    "                # Left slice            \n",
    "                spec_array = spec_array_full[:,:,:173,:]\n",
    "    \n",
    "                # Convert spectrogram array from dtype float64 to float32\n",
    "                spec_array = spec_array.astype('float32')\n",
    "\n",
    "                # Write to the hdf5 file\n",
    "                with h5py.File(train_hdf5_path, \"r+\") as f:\n",
    "                    # X_train\n",
    "                    dset = f['spectrogram_arrays_X_train']    \n",
    "                    # limit tensor height to 173 (there were a few tensors with 174)\n",
    "                    dset[count,:,:,:] = spec_array[:,:,:173,:]\n",
    "                    # y_train\n",
    "                    dset = f['spectrogram_arrays_y_train']    \n",
    "                    dset[count,:] = row['classID']\n",
    "                    \n",
    "                count += 1\n",
    "    \n",
    "                # Right slice            \n",
    "                spec_array = spec_array_full[:,:,-173:,:]\n",
    "\n",
    "                # Convert spectrogram array from dtype float64 to float32\n",
    "                spec_array = spec_array.astype('float32')\n",
    "\n",
    "                # Write to the hdf5 file\n",
    "                with h5py.File(train_hdf5_path, \"r+\") as f:\n",
    "                    # X_train\n",
    "                    dset = f['spectrogram_arrays_X_train']    \n",
    "                    # limit tensor height to 173 (there were a few tensors with 174)\n",
    "                    dset[count,:,:,:] = spec_array[:,:,:173,:]\n",
    "                    # y_train\n",
    "                    dset = f['spectrogram_arrays_y_train']    \n",
    "                    dset[count,:] = row['classID']\n",
    "                    \n",
    "                count += 1\n",
    "    \n",
    "            else:\n",
    "\n",
    "                spec_array = spec_array[:,:,:173,:]\n",
    "\n",
    "                # Convert spectrogram array from dtype float64 to float32\n",
    "                spec_array = spec_array.astype('float32')\n",
    "\n",
    "                # Write to the hdf5 file\n",
    "                with h5py.File(train_hdf5_path, \"r+\") as f:\n",
    "                    # X_train\n",
    "                    dset = f['spectrogram_arrays_X_train']    \n",
    "                    # limit tensor height to 173 (there were a few tensors with 174)\n",
    "                    dset[count,:,:,:] = spec_array[:,:,:173,:]\n",
    "                    # y_train\n",
    "                    dset = f['spectrogram_arrays_y_train']    \n",
    "                    dset[count,:] = row['classID']\n",
    "                    \n",
    "                count += 1\n"
   ]
  },
  {
   "cell_type": "markdown",
   "metadata": {},
   "source": [
    "# Inspect `HDF5` data"
   ]
  },
  {
   "cell_type": "code",
   "execution_count": null,
   "metadata": {
    "collapsed": true
   },
   "outputs": [],
   "source": [
    "with h5py.File(train_hdf5_path, \"r\") as f:\n",
    "    dset = f['spectrogram_arrays_X_train']    \n",
    "    print(dset.dtype)\n",
    "    \n",
    "    dset = f['spectrogram_arrays_y_train']    \n",
    "    print(dset.dtype)    \n",
    "\n",
    "with h5py.File(test_hdf5_path, \"r\") as f:\n",
    "    dset = f['spectrogram_arrays_X_test']    \n",
    "    print(dset.dtype)\n",
    "    \n",
    "    dset = f['spectrogram_arrays_y_test']    \n",
    "    print(dset.dtype)        "
   ]
  },
  {
   "cell_type": "code",
   "execution_count": null,
   "metadata": {
    "collapsed": true,
    "scrolled": true
   },
   "outputs": [],
   "source": [
    "with h5py.File(train_hdf5_path, \"r\") as f:\n",
    "    dset = f['spectrogram_arrays_X_train']    \n",
    "    print(dset.shape)\n",
    "    \n",
    "    dset = f['spectrogram_arrays_y_train']    \n",
    "    print(dset.shape)\n",
    "    \n",
    "with h5py.File(test_hdf5_path, \"r\") as f:\n",
    "    dset = f['spectrogram_arrays_X_test']    \n",
    "    print(dset.shape)\n",
    "    \n",
    "    dset = f['spectrogram_arrays_y_test']    \n",
    "    print(dset.shape)\n",
    "        "
   ]
  },
  {
   "cell_type": "code",
   "execution_count": null,
   "metadata": {
    "collapsed": true
   },
   "outputs": [],
   "source": [
    "with h5py.File(train_hdf5_path, \"r\") as f:\n",
    "    dset = f['spectrogram_arrays_X_train']    \n",
    "    print(dset.ndim)\n",
    "    \n",
    "    dset = f['spectrogram_arrays_y_train']    \n",
    "    print(dset.ndim)\n",
    "    \n",
    "with h5py.File(test_hdf5_path, \"r\") as f:\n",
    "    dset = f['spectrogram_arrays_X_test']    \n",
    "    print(dset.ndim)\n",
    "    \n",
    "    dset = f['spectrogram_arrays_y_test']    \n",
    "    print(dset.ndim)\n",
    "        "
   ]
  },
  {
   "cell_type": "code",
   "execution_count": null,
   "metadata": {
    "collapsed": true
   },
   "outputs": [],
   "source": [
    "with h5py.File(train_hdf5_path, \"r\") as f:\n",
    "    dset = f['spectrogram_arrays_X_train']    \n",
    "    print(dset.len())\n",
    "    \n",
    "    dset = f['spectrogram_arrays_y_train']    \n",
    "    print(dset.len())\n",
    "    \n",
    "with h5py.File(test_hdf5_path, \"r\") as f:\n",
    "    dset = f['spectrogram_arrays_X_test']    \n",
    "    print(dset.len())\n",
    "    \n",
    "    dset = f['spectrogram_arrays_y_test']    \n",
    "    print(dset.len())\n",
    "        "
   ]
  },
  {
   "cell_type": "code",
   "execution_count": 1,
   "metadata": {
    "collapsed": true
   },
   "outputs": [
    {
     "ename": "NameError",
     "evalue": "name 'h5py' is not defined",
     "output_type": "error",
     "traceback": [
      "\u001b[0;31m---------------------------------------------------------------------------\u001b[0m",
      "\u001b[0;31mNameError\u001b[0m                                 Traceback (most recent call last)",
      "\u001b[0;32m<ipython-input-1-e741698434c8>\u001b[0m in \u001b[0;36m<module>\u001b[0;34m()\u001b[0m\n\u001b[0;32m----> 1\u001b[0;31m \u001b[0;32mwith\u001b[0m \u001b[0mh5py\u001b[0m\u001b[0;34m.\u001b[0m\u001b[0mFile\u001b[0m\u001b[0;34m(\u001b[0m\u001b[0mtrain_hdf5_path\u001b[0m\u001b[0;34m,\u001b[0m \u001b[0;34m\"r\"\u001b[0m\u001b[0;34m)\u001b[0m \u001b[0;32mas\u001b[0m \u001b[0mf\u001b[0m\u001b[0;34m:\u001b[0m\u001b[0;34m\u001b[0m\u001b[0m\n\u001b[0m\u001b[1;32m      2\u001b[0m     \u001b[0mdset\u001b[0m \u001b[0;34m=\u001b[0m \u001b[0mf\u001b[0m\u001b[0;34m[\u001b[0m\u001b[0;34m'spectrogram_arrays_X_train'\u001b[0m\u001b[0;34m]\u001b[0m\u001b[0;34m\u001b[0m\u001b[0m\n\u001b[1;32m      3\u001b[0m     \u001b[0mprint\u001b[0m\u001b[0;34m(\u001b[0m\u001b[0mdset\u001b[0m\u001b[0;34m.\u001b[0m\u001b[0mmaxshape\u001b[0m\u001b[0;34m)\u001b[0m\u001b[0;34m\u001b[0m\u001b[0m\n\u001b[1;32m      4\u001b[0m \u001b[0;34m\u001b[0m\u001b[0m\n\u001b[1;32m      5\u001b[0m     \u001b[0mdset\u001b[0m \u001b[0;34m=\u001b[0m \u001b[0mf\u001b[0m\u001b[0;34m[\u001b[0m\u001b[0;34m'spectrogram_arrays_y_train'\u001b[0m\u001b[0;34m]\u001b[0m\u001b[0;34m\u001b[0m\u001b[0m\n",
      "\u001b[0;31mNameError\u001b[0m: name 'h5py' is not defined"
     ]
    }
   ],
   "source": [
    "with h5py.File(train_hdf5_path, \"r\") as f:\n",
    "    dset = f['spectrogram_arrays_X_train']    \n",
    "    print(dset.maxshape)\n",
    "    \n",
    "    dset = f['spectrogram_arrays_y_train']    \n",
    "    print(dset.len())\n",
    "    \n",
    "with h5py.File(test_hdf5_path, \"r\") as f:\n",
    "    dset = f['spectrogram_arrays_X_test']    \n",
    "    print(dset.len())\n",
    "    \n",
    "    dset = f['spectrogram_arrays_y_test']    \n",
    "    print(dset.len())\n",
    "        "
   ]
  },
  {
   "cell_type": "code",
   "execution_count": null,
   "metadata": {
    "collapsed": true
   },
   "outputs": [],
   "source": []
  }
 ],
 "metadata": {
  "kernelspec": {
   "display_name": "Python 3",
   "language": "python",
   "name": "python3"
  },
  "language_info": {
   "codemirror_mode": {
    "name": "ipython",
    "version": 3
   },
   "file_extension": ".py",
   "mimetype": "text/x-python",
   "name": "python",
   "nbconvert_exporter": "python",
   "pygments_lexer": "ipython3",
   "version": "3.5.0"
  }
 },
 "nbformat": 4,
 "nbformat_minor": 2
}
