{
 "cells": [
  {
   "cell_type": "markdown",
   "metadata": {},
   "source": [
    "### Import libraries and modify notebook settings"
   ]
  },
  {
   "cell_type": "code",
   "execution_count": 1,
   "metadata": {},
   "outputs": [
    {
     "name": "stderr",
     "output_type": "stream",
     "text": [
      "Using TensorFlow backend.\n"
     ]
    }
   ],
   "source": [
    "# Import libraries\n",
    "import os\n",
    "import sys\n",
    "import h5py\n",
    "import numpy as np\n",
    "import pandas as pd\n",
    "import matplotlib.pyplot as plt\n",
    "\n",
    "from IPython.display import clear_output\n",
    "\n",
    "from keras.models import Sequential\n",
    "from keras.layers import Dense, Dropout, Activation, Flatten\n",
    "from keras.layers import Convolution2D, MaxPooling2D\n",
    "from keras.layers import BatchNormalization\n",
    "from keras.utils import np_utils\n",
    "from keras.utils import HDF5Matrix\n",
    "from keras.callbacks import Callback\n",
    "from keras.callbacks import ModelCheckpoint\n",
    "from keras import regularizers\n",
    "\n",
    "# Modify notebook settings\n",
    "%matplotlib inline"
   ]
  },
  {
   "cell_type": "markdown",
   "metadata": {},
   "source": [
    "### Create paths to data folders and files"
   ]
  },
  {
   "cell_type": "code",
   "execution_count": 2,
   "metadata": {
    "collapsed": true
   },
   "outputs": [],
   "source": [
    "# Create a variable for the project root directory\n",
    "proj_root = os.path.join(os.pardir)\n",
    "\n",
    "# Save the path to the folder that contains\n",
    "# the interim data sets for modeling:\n",
    "# /data/interim\n",
    "interim_data_dir = os.path.join(proj_root,\n",
    "                                \"data\",\n",
    "                                \"interim\")\n",
    "\n",
    "# Save path to the folder for the\n",
    "# spectrogram arrays\n",
    "spectrogram_arrays_path = os.path.join(interim_data_dir,\n",
    "                                       \"spectrogram_arrays\")\n",
    "\n",
    "# Full path for test_hdf5_path\n",
    "test_hdf5_path = os.path.join(spectrogram_arrays_path,\n",
    "                                \"spectrogram_arrays_test.hdf5\")\n",
    "\n",
    "# Full path for train_hdf5_path\n",
    "train_hdf5_path = os.path.join(spectrogram_arrays_path,\n",
    "                                \"spectrogram_arrays_train.hdf5\")\n",
    "\n",
    "# Save the path to the models folder\n",
    "models_dir = os.path.join(proj_root,\n",
    "                          \"models\")\n",
    "\n",
    "# Full path for my_model.hdf5\n",
    "model_path = os.path.join(models_dir, \n",
    "                          \"my_model.hdf5\")\n",
    "\n",
    "# Save the path to the models/log folder\n",
    "models_log_dir = os.path.join(models_dir,\n",
    "                              \"log\")\n",
    "\n",
    "# log_figure file_name\n",
    "fig_file_name = \"log_figure\"\n",
    "\n",
    "# Save the path to the log_figure\n",
    "log_fig_path = os.path.join(models_log_dir, \n",
    "                            fig_file_name)\n",
    "\n",
    "# log_dataframe.csv file_name\n",
    "log_file_name = \"log_dataframe.csv\"\n",
    "\n",
    "# Save the path to the log_figure\n",
    "log_file_path = os.path.join(models_log_dir,\n",
    "                             log_file_name)\n",
    "\n",
    "# Save the path to the models/checkpoints folder\n",
    "models_checkpoints_dir = os.path.join(models_dir,\n",
    "                                      \"checkpoints\")\n"
   ]
  },
  {
   "cell_type": "code",
   "execution_count": 3,
   "metadata": {
    "collapsed": true
   },
   "outputs": [],
   "source": [
    "# add the 'src' directory as one where we can import modules\n",
    "src_dir = os.path.join(proj_root, \"src\")\n",
    "sys.path.append(src_dir)"
   ]
  },
  {
   "cell_type": "markdown",
   "metadata": {},
   "source": [
    "## Create objects for X_train, y_train, X_test, & y_test"
   ]
  },
  {
   "cell_type": "code",
   "execution_count": 4,
   "metadata": {
    "collapsed": true
   },
   "outputs": [],
   "source": [
    "X_train = HDF5Matrix(train_hdf5_path, \n",
    "                     'spectrogram_arrays_X_train')\n",
    "\n",
    "y_train = HDF5Matrix(train_hdf5_path, \n",
    "                     'spectrogram_arrays_y_train')\n",
    "\n",
    "X_test = HDF5Matrix(test_hdf5_path, \n",
    "                     'spectrogram_arrays_X_test')\n",
    "\n",
    "y_test = HDF5Matrix(test_hdf5_path, \n",
    "                     'spectrogram_arrays_y_test')\n"
   ]
  },
  {
   "cell_type": "code",
   "execution_count": 5,
   "metadata": {
    "collapsed": true
   },
   "outputs": [],
   "source": [
    "# 6. Preprocess class labels\n",
    "Y_train = np_utils.to_categorical(y_train)\n",
    "Y_test = np_utils.to_categorical(y_test)"
   ]
  },
  {
   "cell_type": "code",
   "execution_count": 6,
   "metadata": {},
   "outputs": [
    {
     "name": "stdout",
     "output_type": "stream",
     "text": [
      "(86100, 96, 173, 1)\n",
      "(1374, 96, 173, 1)\n",
      "(86100, 1)\n",
      "(1374, 1)\n",
      "(86100, 10)\n",
      "(1374, 10)\n"
     ]
    }
   ],
   "source": [
    "print(X_train.shape)\n",
    "print(X_test.shape)\n",
    "print(y_train.shape)\n",
    "print(y_test.shape)\n",
    "print(Y_train.shape)\n",
    "print(Y_test.shape)"
   ]
  },
  {
   "cell_type": "markdown",
   "metadata": {},
   "source": [
    "# ..."
   ]
  },
  {
   "cell_type": "code",
   "execution_count": null,
   "metadata": {
    "collapsed": true
   },
   "outputs": [],
   "source": []
  },
  {
   "cell_type": "code",
   "execution_count": null,
   "metadata": {
    "collapsed": true
   },
   "outputs": [],
   "source": []
  },
  {
   "cell_type": "code",
   "execution_count": null,
   "metadata": {
    "collapsed": true
   },
   "outputs": [],
   "source": []
  },
  {
   "cell_type": "code",
   "execution_count": 42,
   "metadata": {},
   "outputs": [],
   "source": [
    "\n",
    "with h5py.File(train_hdf5_path, \"r\") as f:\n",
    "    dset = f['spectrogram_arrays_X_train']    \n",
    "        \n",
    "    min_val = np.min(dset[0,:,:,:])\n",
    "    max_val = np.max(dset[0,:,:,:])\n",
    "\n",
    "    for i in range(dset.len()):\n",
    "        min_val_new = np.min(dset[i,:,:,:])\n",
    "        min_val_old = min_val\n",
    "        min_val = np.minimum(min_val_new, min_val_old)\n",
    "        \n",
    "        max_val_new = np.max(dset[i,:,:,:])\n",
    "        max_val_old = max_val\n",
    "        max_val = np.maximum(max_val_new, max_val_old)"
   ]
  },
  {
   "cell_type": "code",
   "execution_count": 43,
   "metadata": {},
   "outputs": [
    {
     "data": {
      "text/plain": [
       "-100.0"
      ]
     },
     "execution_count": 43,
     "metadata": {},
     "output_type": "execute_result"
    }
   ],
   "source": [
    "min_val"
   ]
  },
  {
   "cell_type": "code",
   "execution_count": 44,
   "metadata": {},
   "outputs": [
    {
     "data": {
      "text/plain": [
       "41.074791"
      ]
     },
     "execution_count": 44,
     "metadata": {},
     "output_type": "execute_result"
    }
   ],
   "source": [
    "max_val"
   ]
  },
  {
   "cell_type": "code",
   "execution_count": null,
   "metadata": {
    "collapsed": true
   },
   "outputs": [],
   "source": []
  },
  {
   "cell_type": "code",
   "execution_count": null,
   "metadata": {
    "collapsed": true
   },
   "outputs": [],
   "source": []
  },
  {
   "cell_type": "markdown",
   "metadata": {},
   "source": [
    "# Model..."
   ]
  },
  {
   "cell_type": "code",
   "execution_count": 45,
   "metadata": {
    "collapsed": true
   },
   "outputs": [],
   "source": [
    "#log_fig_path = log_fig_path\n",
    "\n",
    "class User_Defined_Callback(Callback):\n",
    "    def on_train_begin(self, logs={}):\n",
    "        self.i = 1\n",
    "        self.x = []\n",
    "        self.accuracy = []\n",
    "        self.val_accuracy = []\n",
    "        self.losses = []\n",
    "        self.val_losses = []\n",
    "        self.fig = plt.figure()\n",
    "        self.logs = []\n",
    "        self.df_log = pd.DataFrame()\n",
    "        self.df_log.to_csv(log_file_path)\n",
    "\n",
    "    def on_epoch_end(self, epoch, logs={}):\n",
    "        \n",
    "        # Update lists\n",
    "        self.logs.append(logs)\n",
    "        self.x.append(self.i)\n",
    "        self.accuracy.append(logs.get('acc'))\n",
    "        self.val_accuracy.append(logs.get('val_acc'))\n",
    "        self.losses.append(logs.get('loss'))\n",
    "        self.val_losses.append(logs.get('val_loss'))\n",
    "        self.i += 1\n",
    "\n",
    "        # Create log dataframe\n",
    "        self.df_log = pd.DataFrame({'epoch_x': self.x,\n",
    "                               'accuracy' : self.accuracy,\n",
    "                               'val_accuracy' : self.val_accuracy,\n",
    "                               'losses' : self.losses,\n",
    "                               'val_losses' : self.val_losses,\n",
    "                               'logs' : self.logs})\n",
    "\n",
    "        # Reorder dataframe columns\n",
    "        self.df_log = self.df_log[['epoch_x', 'accuracy', 'val_accuracy', 'losses', 'val_losses', 'logs']]\n",
    "\n",
    "        # Save log dataframe to csv\n",
    "        self.df_log.to_csv(log_file_path)        \n",
    "        \n",
    "        \n",
    "        # Create summary plots of Loss vs Epoch and Accuracy vs Epoch\n",
    "        clear_output(wait=True)\n",
    "        \n",
    "        fig, (ax1, ax2) = plt.subplots(ncols=2, figsize=(8,4))\n",
    "\n",
    "        ax1.plot(self.x, self.losses, label=\"loss\")\n",
    "        ax1.plot(self.x, self.val_losses, label=\"val_loss\")\n",
    "        ax1.axes.set_xlabel('Epoch')\n",
    "        ax1.axes.set_ylabel('Loss Function')   \n",
    "        ax1.axes.set_title('Loss vs Epoch')  \n",
    "        ax1.legend()\n",
    "\n",
    "        ax2.plot(self.x, self.accuracy, label=\"acc\")\n",
    "        ax2.plot(self.x, self.val_accuracy, label=\"val_acc\")\n",
    "        ax2.axes.set_xlabel('Epoch')\n",
    "        ax2.axes.set_ylabel('Accuracy')   \n",
    "        ax2.axes.set_title('Accuracy vs Epoch')  \n",
    "        ax2.legend()\n",
    "\n",
    "        plt.tight_layout()\n",
    "        \n",
    "        plt.savefig(log_fig_path, dpi=300)\n",
    "        plt.show()\n",
    "        \n",
    "        \n",
    "user_defined_callback = User_Defined_Callback()"
   ]
  },
  {
   "cell_type": "code",
   "execution_count": 46,
   "metadata": {
    "collapsed": true
   },
   "outputs": [],
   "source": [
    "\n",
    "# Checkpoint file names\n",
    "checkpoint_file_name=\"weights-improvement-{epoch:02d}-{val_acc:.2f}.hdf5\"\n",
    "\n",
    "# Save the path to the models/checkpoints folder\n",
    "models_checkpoints_path = os.path.join(models_checkpoints_dir,\n",
    "                                       checkpoint_file_name)\n",
    "\n",
    "checkpoint = ModelCheckpoint(models_checkpoints_path, \n",
    "                             monitor='val_acc', verbose=0, \n",
    "                             save_best_only=True, mode='max')\n"
   ]
  },
  {
   "cell_type": "code",
   "execution_count": 47,
   "metadata": {
    "collapsed": true
   },
   "outputs": [],
   "source": [
    "# Define the callbacks_list\n",
    "callbacks_list = [checkpoint, user_defined_callback]"
   ]
  },
  {
   "cell_type": "code",
   "execution_count": 48,
   "metadata": {
    "collapsed": true
   },
   "outputs": [],
   "source": [
    "# For reproducibility\n",
    "np.random.seed(42)"
   ]
  },
  {
   "cell_type": "markdown",
   "metadata": {},
   "source": [
    "# Add BatchNormalization() layers"
   ]
  },
  {
   "cell_type": "code",
   "execution_count": null,
   "metadata": {
    "collapsed": true
   },
   "outputs": [],
   "source": []
  },
  {
   "cell_type": "code",
   "execution_count": null,
   "metadata": {
    "collapsed": true
   },
   "outputs": [],
   "source": []
  },
  {
   "cell_type": "code",
   "execution_count": null,
   "metadata": {
    "collapsed": true
   },
   "outputs": [],
   "source": []
  },
  {
   "cell_type": "code",
   "execution_count": null,
   "metadata": {
    "collapsed": true
   },
   "outputs": [],
   "source": []
  },
  {
   "cell_type": "code",
   "execution_count": 51,
   "metadata": {
    "collapsed": true
   },
   "outputs": [],
   "source": [
    "def minmax_norm(x, min_val, max_val):\n",
    "    \n",
    "    numerator = np.add(x, (-min_val))\n",
    "    \n",
    "    divisor = max_val - min_val\n",
    "    \n",
    "    return np.divide(numerator, divisor)\n",
    "    \n",
    "#    return (x - min_val) / (max_val - min_val)"
   ]
  },
  {
   "cell_type": "code",
   "execution_count": 53,
   "metadata": {
    "collapsed": true
   },
   "outputs": [],
   "source": [
    "from keras.layers import Lambda"
   ]
  },
  {
   "cell_type": "code",
   "execution_count": null,
   "metadata": {
    "scrolled": false
   },
   "outputs": [
    {
     "data": {
      "image/png": "[encoded data removed]",
      "text/plain": [
       "<matplotlib.figure.Figure at 0x125760d30>"
      ]
     },
     "metadata": {},
     "output_type": "display_data"
    },
    {
     "name": "stdout",
     "output_type": "stream",
     "text": [
      "86100/86100 [==============================] - 2656s - loss: 3.1559 - acc: 0.1303 - val_loss: 2.4687 - val_acc: 0.1412\n",
      "Epoch 3/50\n",
      "16000/86100 [====>.........................] - ETA: 2120s - loss: 2.4672 - acc: 0.1447"
     ]
    }
   ],
   "source": [
    "\n",
    "# Define model architecture\n",
    "model = Sequential()\n",
    "\n",
    "# Input Layer\n",
    "model.add(Activation(None, input_shape=(96, 173, 1)))\n",
    "#Min_max_scale\n",
    "model.add(Lambda(minmax_norm, arguments={\"min_val\": min_val, \"max_val\": max_val}))\n",
    "model.add(BatchNormalization())\n",
    "\n",
    "\n",
    "\n",
    "# Input Layer\n",
    "#model.add(Activation(None, input_shape=(96, 173, 1)))\n",
    "#model.add(BatchNormalization())\n",
    "\n",
    "# Convolution Layer 1\n",
    "model.add(Convolution2D(24, (5, 5), activation='relu', \n",
    "                        input_shape=(96, 173, 1)))\n",
    "model.add(MaxPooling2D(pool_size=(4,2)))\n",
    "model.add(BatchNormalization())\n",
    "\n",
    "# Convolution Layer 2\n",
    "model.add(Convolution2D(48, (5, 5), activation='relu'))\n",
    "model.add(MaxPooling2D(pool_size=(4,2)))\n",
    "model.add(BatchNormalization())\n",
    "\n",
    "# Convolution Layer 3\n",
    "model.add(Convolution2D(48, (5, 5), \n",
    "                        padding='same',\n",
    "                        activation='relu'))\n",
    "model.add(BatchNormalization())\n",
    "\n",
    "# Dense Layer \n",
    "model.add(Flatten())\n",
    "model.add(Dense(64, activation='relu',\n",
    "                kernel_regularizer=regularizers.l2(0.001), \n",
    "                activity_regularizer=regularizers.l2(0.001)))\n",
    "\n",
    "# Softmax Layer \n",
    "#model.add(Dropout(0.5))\n",
    "model.add(Dense(10, activation='softmax',\n",
    "                kernel_regularizer=regularizers.l2(0.001), \n",
    "                activity_regularizer=regularizers.l2(0.001)))\n",
    "\n",
    "\n",
    "# Compile model\n",
    "model.compile(loss='categorical_crossentropy',\n",
    "              optimizer='adam',\n",
    "              metrics=['accuracy'])\n",
    "\n",
    "\n",
    "# Fit model on training data\n",
    "model.fit(X_train, Y_train, \n",
    "          batch_size=100,\n",
    "          epochs=50, \n",
    "          verbose=1, \n",
    "          callbacks=callbacks_list,\n",
    "          validation_data=(X_test, Y_test),\n",
    "          shuffle=\"batch\")\n",
    "\n",
    "# Evaluate model on test data\n",
    "score = model.evaluate(X_test, Y_test, verbose=0)\n",
    "\n",
    "#...\n",
    "print('test score:', score[1])"
   ]
  },
  {
   "cell_type": "code",
   "execution_count": null,
   "metadata": {
    "collapsed": true
   },
   "outputs": [],
   "source": [
    "model.save(model_path)  # creates a HDF5 file 'my_model.hdf5'"
   ]
  },
  {
   "cell_type": "code",
   "execution_count": null,
   "metadata": {
    "collapsed": true
   },
   "outputs": [],
   "source": []
  },
  {
   "cell_type": "code",
   "execution_count": null,
   "metadata": {},
   "outputs": [],
   "source": []
  },
  {
   "cell_type": "code",
   "execution_count": null,
   "metadata": {
    "collapsed": true
   },
   "outputs": [],
   "source": []
  },
  {
   "cell_type": "markdown",
   "metadata": {},
   "source": [
    "    from keras.layers import Convolution1D"
   ]
  },
  {
   "cell_type": "markdown",
   "metadata": {},
   "source": [
    "\n",
    "    # Define model architecture\n",
    "    model = Sequential()\n",
    "\n",
    "    # Input Layer\n",
    "    model.add(Activation(None, input_shape=(96, 173, 1)))\n",
    "    #Min_max_scale\n",
    "    model.add(Lambda(minmax_norm, arguments={\"min_val\": min_val, \"max_val\": max_val}))\n",
    "    model.add(BatchNormalization())\n",
    "\n",
    "\n",
    "\n",
    "    # Input Layer\n",
    "    #model.add(Activation(None, input_shape=(96, 173, 1)))\n",
    "    #model.add(BatchNormalization())\n",
    "\n",
    "    # Convolution Layer 1\n",
    "    model.add(Convolution1D(24, 173, activation='relu', \n",
    "                            input_shape=(96, 173, 1)))\n",
    "    #model.add(MaxPooling2D(pool_size=(4,2)))\n",
    "    model.add(BatchNormalization())\n",
    "\n",
    "    #    # Convolution Layer 2\n",
    "    #    model.add(Convolution2D(48, (5, 5), activation='relu'))\n",
    "    #    model.add(MaxPooling2D(pool_size=(4,2)))\n",
    "    #    model.add(BatchNormalization())\n",
    "\n",
    "    #    # Convolution Layer 3\n",
    "    #    model.add(Convolution2D(48, (5, 5), \n",
    "    #                            padding='same',\n",
    "    #                            activation='relu'))\n",
    "    #    model.add(BatchNormalization())\n",
    "\n",
    "    # Dense Layer \n",
    "    model.add(Flatten())\n",
    "    model.add(Dense(64, activation='relu',\n",
    "                    kernel_regularizer=regularizers.l2(0.001), \n",
    "                    activity_regularizer=regularizers.l2(0.001)))\n",
    "\n",
    "    # Softmax Layer \n",
    "    #model.add(Dropout(0.5))\n",
    "    model.add(Dense(10, activation='softmax',\n",
    "                    kernel_regularizer=regularizers.l2(0.001), \n",
    "                    activity_regularizer=regularizers.l2(0.001)))\n",
    "\n",
    "\n",
    "    # Compile model\n",
    "    model.compile(loss='categorical_crossentropy',\n",
    "                  optimizer='adam',\n",
    "                  metrics=['accuracy'])\n",
    "\n",
    "\n",
    "    # Fit model on training data\n",
    "    model.fit(X_train, Y_train, \n",
    "              batch_size=100,\n",
    "              epochs=50, \n",
    "              verbose=1, \n",
    "              callbacks=callbacks_list,\n",
    "              validation_data=(X_test, Y_test),\n",
    "              shuffle=\"batch\")\n",
    "\n",
    "    # Evaluate model on test data\n",
    "    score = model.evaluate(X_test, Y_test, verbose=0)\n",
    "\n",
    "    #...\n",
    "    print('test score:', score[1])"
   ]
  },
  {
   "cell_type": "code",
   "execution_count": null,
   "metadata": {
    "collapsed": true
   },
   "outputs": [],
   "source": []
  }
 ],
 "metadata": {
  "kernelspec": {
   "display_name": "Python 3",
   "language": "python",
   "name": "python3"
  },
  "language_info": {
   "codemirror_mode": {
    "name": "ipython",
    "version": 3
   },
   "file_extension": ".py",
   "mimetype": "text/x-python",
   "name": "python",
   "nbconvert_exporter": "python",
   "pygments_lexer": "ipython3",
   "version": "3.6.1"
  }
 },
 "nbformat": 4,
 "nbformat_minor": 2
}
